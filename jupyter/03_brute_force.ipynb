{
 "cells": [
  {
   "cell_type": "markdown",
   "metadata": {},
   "source": [
    "# Оптимизировать производство\n",
    "\n"
   ]
  },
  {
   "cell_type": "code",
   "execution_count": 1,
   "metadata": {},
   "outputs": [],
   "source": [
    "import numpy as np\n",
    "import pandas as pd\n",
    "\n",
    "from itertools import combinations"
   ]
  },
  {
   "cell_type": "code",
   "execution_count": 2,
   "metadata": {},
   "outputs": [],
   "source": [
    "input_file = \"input_data.xlsx\"\n",
    "output_file = \"result.xlsx\""
   ]
  },
  {
   "cell_type": "code",
   "execution_count": 16,
   "metadata": {
    "scrolled": true
   },
   "outputs": [
    {
     "data": {
      "text/html": [
       "<div>\n",
       "<style scoped>\n",
       "    .dataframe tbody tr th:only-of-type {\n",
       "        vertical-align: middle;\n",
       "    }\n",
       "\n",
       "    .dataframe tbody tr th {\n",
       "        vertical-align: top;\n",
       "    }\n",
       "\n",
       "    .dataframe thead th {\n",
       "        text-align: right;\n",
       "    }\n",
       "</style>\n",
       "<table border=\"1\" class=\"dataframe\">\n",
       "  <thead>\n",
       "    <tr style=\"text-align: right;\">\n",
       "      <th></th>\n",
       "      <th>MatrixName</th>\n",
       "      <th>OrderSize</th>\n",
       "    </tr>\n",
       "  </thead>\n",
       "  <tbody>\n",
       "    <tr>\n",
       "      <th>0</th>\n",
       "      <td>Орион - 600</td>\n",
       "      <td>734</td>\n",
       "    </tr>\n",
       "    <tr>\n",
       "      <th>1</th>\n",
       "      <td>Орион - 700</td>\n",
       "      <td>722</td>\n",
       "    </tr>\n",
       "    <tr>\n",
       "      <th>2</th>\n",
       "      <td>Орион - 800</td>\n",
       "      <td>1622</td>\n",
       "    </tr>\n",
       "    <tr>\n",
       "      <th>3</th>\n",
       "      <td>Весна - 600</td>\n",
       "      <td>218</td>\n",
       "    </tr>\n",
       "    <tr>\n",
       "      <th>4</th>\n",
       "      <td>Весна  - 700</td>\n",
       "      <td>350</td>\n",
       "    </tr>\n",
       "    <tr>\n",
       "      <th>5</th>\n",
       "      <td>Весна  - 800</td>\n",
       "      <td>820</td>\n",
       "    </tr>\n",
       "    <tr>\n",
       "      <th>6</th>\n",
       "      <td>Сафари</td>\n",
       "      <td>292</td>\n",
       "    </tr>\n",
       "    <tr>\n",
       "      <th>7</th>\n",
       "      <td>Сафари 2</td>\n",
       "      <td>352</td>\n",
       "    </tr>\n",
       "    <tr>\n",
       "      <th>8</th>\n",
       "      <td>Сатурн ПГ</td>\n",
       "      <td>42</td>\n",
       "    </tr>\n",
       "    <tr>\n",
       "      <th>9</th>\n",
       "      <td>Сатурн ПО</td>\n",
       "      <td>584</td>\n",
       "    </tr>\n",
       "    <tr>\n",
       "      <th>10</th>\n",
       "      <td>Соло</td>\n",
       "      <td>374</td>\n",
       "    </tr>\n",
       "    <tr>\n",
       "      <th>11</th>\n",
       "      <td>Арабеска ПО 800</td>\n",
       "      <td>30</td>\n",
       "    </tr>\n",
       "    <tr>\n",
       "      <th>12</th>\n",
       "      <td>Октава</td>\n",
       "      <td>38</td>\n",
       "    </tr>\n",
       "  </tbody>\n",
       "</table>\n",
       "</div>"
      ],
      "text/plain": [
       "         MatrixName  OrderSize\n",
       "0       Орион - 600        734\n",
       "1       Орион - 700        722\n",
       "2       Орион - 800       1622\n",
       "3       Весна - 600        218\n",
       "4      Весна  - 700        350\n",
       "5      Весна  - 800        820\n",
       "6            Сафари        292\n",
       "7          Сафари 2        352\n",
       "8         Сатурн ПГ         42\n",
       "9         Сатурн ПО        584\n",
       "10             Соло        374\n",
       "11  Арабеска ПО 800         30\n",
       "12           Октава         38"
      ]
     },
     "execution_count": 16,
     "metadata": {},
     "output_type": "execute_result"
    }
   ],
   "source": [
    "sheetname = \"Orders\"\n",
    "df_orders = pd.read_excel(input_file, sheetname, nrows=None)\n",
    "df_orders"
   ]
  },
  {
   "cell_type": "markdown",
   "metadata": {},
   "source": [
    "- NORDERS\n",
    "- NLOT - кол-во мест для матриц пресса\n",
    "- TCHANGE\n",
    "- THEAT\n",
    "- DIFF_TOT_TIME"
   ]
  },
  {
   "cell_type": "code",
   "execution_count": 4,
   "metadata": {},
   "outputs": [],
   "source": [
    "NORDERS = df_orders.shape[0]\n",
    "NLOT = 3\n",
    "\n",
    "TCHANGE = 20\n",
    "THEAT = 40"
   ]
  },
  {
   "cell_type": "code",
   "execution_count": 5,
   "metadata": {},
   "outputs": [
    {
     "data": {
      "text/plain": [
       "{'Весна - 600', 'Орион - 600', 'Орион - 700', 'Орион - 800'}"
      ]
     },
     "execution_count": 5,
     "metadata": {},
     "output_type": "execute_result"
    }
   ],
   "source": [
    "ORDERS = set(df_orders.MatrixName.values)\n",
    "ORDERS"
   ]
  },
  {
   "cell_type": "code",
   "execution_count": 6,
   "metadata": {},
   "outputs": [],
   "source": [
    "def convert_dataframe_to_dict(dataframe, key_columns, value_column):\n",
    "    return (\n",
    "        dataframe.loc[:, key_columns + [value_column]]\n",
    "        .set_index(key_columns)\n",
    "        .to_dict()[value_column]\n",
    "    )"
   ]
  },
  {
   "cell_type": "code",
   "execution_count": 7,
   "metadata": {},
   "outputs": [
    {
     "data": {
      "text/plain": [
       "{'Орион - 600': 734,\n",
       " 'Орион - 700': 722,\n",
       " 'Орион - 800': 1622,\n",
       " 'Весна - 600': 218}"
      ]
     },
     "execution_count": 7,
     "metadata": {},
     "output_type": "execute_result"
    }
   ],
   "source": [
    "DURATION = convert_dataframe_to_dict(df_orders, [\"MatrixName\"], \"OrderSize\")\n",
    "DURATION"
   ]
  },
  {
   "cell_type": "markdown",
   "metadata": {},
   "source": [
    "## Задача"
   ]
  },
  {
   "cell_type": "markdown",
   "metadata": {},
   "source": [
    "lot_states = ['changing', 'heating', 'empty', 'busy']"
   ]
  },
  {
   "cell_type": "code",
   "execution_count": 8,
   "metadata": {},
   "outputs": [],
   "source": [
    "class Machine:\n",
    "    def __init__(self):\n",
    "        self.idle_lot = None #\n",
    "        self.lot = np.zeros(NLOT)\n",
    "        \n",
    "    def is_idle_lot(self):\n",
    "        return (self.lot == 0).any()\n",
    "    \n",
    "    def get_idle_lot(self):\n",
    "        return np.where(self.lot == 0)[0]\n",
    "    \n",
    "    def set_order_to_lot(self, order, lot_number):\n",
    "        assert self.lot[lot_number] == 0\n",
    "        self.lot[lot_number] = order\n",
    "        \n",
    "    def get_first_done_lot(self):\n",
    "        return self.lot[self.lot != 0].argmin()\n",
    "    \n",
    "    def get_done_value(self):\n",
    "        return self.lot[self.get_first_done_lot()]\n",
    "    \n",
    "    def run(self):\n",
    "        self.lot[self.lot != 0] -= self.get_done_value()\n",
    "        "
   ]
  },
  {
   "cell_type": "code",
   "execution_count": 9,
   "metadata": {},
   "outputs": [
    {
     "data": {
      "text/plain": [
       "array([0., 0., 0.])"
      ]
     },
     "execution_count": 9,
     "metadata": {},
     "output_type": "execute_result"
    }
   ],
   "source": [
    "m = Machine()\n",
    "m.lot"
   ]
  },
  {
   "cell_type": "code",
   "execution_count": null,
   "metadata": {},
   "outputs": [],
   "source": []
  },
  {
   "cell_type": "code",
   "execution_count": null,
   "metadata": {},
   "outputs": [],
   "source": []
  },
  {
   "cell_type": "code",
   "execution_count": 10,
   "metadata": {},
   "outputs": [],
   "source": [
    "def get_subdict(dictionary, keys):\n",
    "    return {k:dictionary[k] for k in keys}"
   ]
  },
  {
   "cell_type": "code",
   "execution_count": 11,
   "metadata": {},
   "outputs": [],
   "source": [
    "def get_min_item(dictionary):\n",
    "    return min(dictionary.items(), key=lambda x: x[1])"
   ]
  },
  {
   "cell_type": "code",
   "execution_count": 12,
   "metadata": {},
   "outputs": [],
   "source": [
    "def reduce_values(dictionary, keys, value):\n",
    "    for k in keys:\n",
    "        dictionary[k] -= value\n",
    "    return dictionary"
   ]
  },
  {
   "cell_type": "code",
   "execution_count": 13,
   "metadata": {},
   "outputs": [],
   "source": [
    "def get_rest_orders(dictionary):\n",
    "    num_empty_lots = 0\n",
    "    rest_orders = []\n",
    "    for k, v in dictionary.items():\n",
    "        if v == 0:\n",
    "            num_empty_lots += 1\n",
    "        else:\n",
    "            rest_orders.append(k)\n",
    "    return rest_orders, num_empty_lots "
   ]
  },
  {
   "cell_type": "code",
   "execution_count": 14,
   "metadata": {},
   "outputs": [
    {
     "name": "stdout",
     "output_type": "stream",
     "text": [
      "{'Орион - 600': 12, 'Орион - 700': 0, 'Орион - 800': 900, 'Весна - 600': 218} ['Орион - 600', 'Орион - 800', 'Весна - 600'] 1\n",
      "{'Орион - 600': 516, 'Орион - 700': 504, 'Орион - 800': 1622, 'Весна - 600': 0} ['Орион - 600', 'Орион - 700', 'Орион - 800'] 1\n",
      "{'Орион - 600': 516, 'Орион - 700': 722, 'Орион - 800': 1404, 'Весна - 600': 0} ['Орион - 600', 'Орион - 700', 'Орион - 800'] 1\n",
      "{'Орион - 600': 734, 'Орион - 700': 504, 'Орион - 800': 1404, 'Весна - 600': 0} ['Орион - 600', 'Орион - 700', 'Орион - 800'] 1\n"
     ]
    }
   ],
   "source": [
    "tmin = 1e15\n",
    "seqmin = None\n",
    "for comb_orders in combinations(DURATION.keys(), 3):\n",
    "    current = DURATION.copy()\n",
    "    \n",
    "    t0 = 0\n",
    "    prod_sequence = [comb_orders]\n",
    "    min_lot, min_order = get_min_item(get_subdict(current, comb_orders))\n",
    "    \n",
    "    t0 += min_order + TCHANGE\n",
    "    current = reduce_values(current, comb_orders, min_order)\n",
    "    \n",
    "    rest_orders, num_empty_lots = get_rest_orders(current)\n",
    "    \n",
    "    print(current, rest_orders, num_empty_lots)"
   ]
  },
  {
   "cell_type": "code",
   "execution_count": 15,
   "metadata": {},
   "outputs": [
    {
     "data": {
      "text/plain": [
       "(1, 0)"
      ]
     },
     "execution_count": 15,
     "metadata": {},
     "output_type": "execute_result"
    }
   ],
   "source": [
    "get_min_item({1:0, 2: 0, 3:1})"
   ]
  },
  {
   "cell_type": "code",
   "execution_count": null,
   "metadata": {},
   "outputs": [],
   "source": []
  },
  {
   "cell_type": "code",
   "execution_count": null,
   "metadata": {},
   "outputs": [],
   "source": []
  },
  {
   "cell_type": "code",
   "execution_count": null,
   "metadata": {},
   "outputs": [],
   "source": []
  },
  {
   "cell_type": "code",
   "execution_count": null,
   "metadata": {},
   "outputs": [],
   "source": []
  }
 ],
 "metadata": {
  "kernelspec": {
   "display_name": "Python 3",
   "language": "python",
   "name": "python3"
  },
  "language_info": {
   "codemirror_mode": {
    "name": "ipython",
    "version": 3
   },
   "file_extension": ".py",
   "mimetype": "text/x-python",
   "name": "python",
   "nbconvert_exporter": "python",
   "pygments_lexer": "ipython3",
   "version": "3.7.1"
  }
 },
 "nbformat": 4,
 "nbformat_minor": 2
}
