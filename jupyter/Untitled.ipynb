{
 "cells": [
  {
   "cell_type": "markdown",
   "metadata": {},
   "source": [
    "# Test"
   ]
  },
  {
   "cell_type": "code",
   "execution_count": 1,
   "metadata": {},
   "outputs": [],
   "source": [
    "from itertools import combinations\n",
    "from collections import Iterable"
   ]
  },
  {
   "cell_type": "code",
   "execution_count": 2,
   "metadata": {},
   "outputs": [
    {
     "data": {
      "text/plain": [
       "(4, 0)"
      ]
     },
     "execution_count": 2,
     "metadata": {},
     "output_type": "execute_result"
    }
   ],
   "source": [
    "NORDERS = 12\n",
    "NSLOTS = 3\n",
    "NSTEPS_ALL_SLOTS, NREST = divmod(NORDERS, NSLOTS)\n",
    "NSTEPS_ALL_SLOTS, NREST"
   ]
  },
  {
   "cell_type": "code",
   "execution_count": 3,
   "metadata": {},
   "outputs": [],
   "source": [
    "def flatten(lst):\n",
    "    \"\"\"Make flat nested lists or tuples.\"\"\"\n",
    "    for item in lst:\n",
    "        if isinstance(item, Iterable) and not isinstance(item, str):\n",
    "            for x in flatten(item):\n",
    "                yield x\n",
    "        else:        \n",
    "            yield item"
   ]
  },
  {
   "cell_type": "code",
   "execution_count": 84,
   "metadata": {},
   "outputs": [],
   "source": [
    "def get_permutations(sequence, n: int):\n",
    "    seq_length = len(sequence)\n",
    "    filled_slots, rest  = divmod(seq_length, n)\n",
    "    # combinations when all slots are full \n",
    "    # time of the task is max duration of single orders\n",
    "    #comb_all_slots = []\n",
    "    #for k in combinations(sequence, n):\n",
    "    #    comb_all_slots.append(k)\n",
    "\n",
    "    # combinations of rests \n",
    "    #comb_rest = []\n",
    "    #for k in combinations(sequence, rest):\n",
    "    #    comb_rest.append(k)\n",
    "\n",
    "   \n",
    "    comb_all_slots = combinations(sequence, n)\n",
    "    comb_rest = list(combinations(sequence, rest))\n",
    "    print(comb_rest)\n",
    "    \n",
    "    for seq in combinations(comb_all_slots, filled_slots):\n",
    "        f1 = list(flatten(seq))\n",
    "        if len(f1) != len(set(f1)):\n",
    "            continue\n",
    "\n",
    "        for r in comb_rest:\n",
    "            f2 = f1 + list(r)\n",
    "            if len(f2) == len(set(f2)):\n",
    "                yield f2\n"
   ]
  },
  {
   "cell_type": "code",
   "execution_count": 87,
   "metadata": {},
   "outputs": [],
   "source": [
    "x, n = list(range(3)), 3"
   ]
  },
  {
   "cell_type": "code",
   "execution_count": 88,
   "metadata": {},
   "outputs": [
    {
     "name": "stdout",
     "output_type": "stream",
     "text": [
      "[()]\n"
     ]
    },
    {
     "data": {
      "text/plain": [
       "[[0, 1, 2]]"
      ]
     },
     "execution_count": 88,
     "metadata": {},
     "output_type": "execute_result"
    }
   ],
   "source": [
    "list(get_permutations(x, n))"
   ]
  },
  {
   "cell_type": "code",
   "execution_count": null,
   "metadata": {},
   "outputs": [],
   "source": []
  },
  {
   "cell_type": "code",
   "execution_count": null,
   "metadata": {},
   "outputs": [],
   "source": []
  },
  {
   "cell_type": "code",
   "execution_count": null,
   "metadata": {},
   "outputs": [],
   "source": []
  },
  {
   "cell_type": "code",
   "execution_count": null,
   "metadata": {},
   "outputs": [],
   "source": []
  },
  {
   "cell_type": "code",
   "execution_count": null,
   "metadata": {},
   "outputs": [],
   "source": []
  },
  {
   "cell_type": "code",
   "execution_count": null,
   "metadata": {},
   "outputs": [],
   "source": []
  }
 ],
 "metadata": {
  "kernelspec": {
   "display_name": "Python 3",
   "language": "python",
   "name": "python3"
  },
  "language_info": {
   "codemirror_mode": {
    "name": "ipython",
    "version": 3
   },
   "file_extension": ".py",
   "mimetype": "text/x-python",
   "name": "python",
   "nbconvert_exporter": "python",
   "pygments_lexer": "ipython3",
   "version": "3.7.1"
  }
 },
 "nbformat": 4,
 "nbformat_minor": 2
}
