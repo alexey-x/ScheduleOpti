{
 "cells": [
  {
   "cell_type": "markdown",
   "metadata": {},
   "source": [
    "# Test"
   ]
  },
  {
   "cell_type": "code",
   "execution_count": 18,
   "metadata": {},
   "outputs": [],
   "source": [
    "import pandas as pd\n",
    "\n",
    "from itertools import combinations\n",
    "from collections import Iterable"
   ]
  },
  {
   "cell_type": "code",
   "execution_count": null,
   "metadata": {},
   "outputs": [],
   "source": [
    "NORDERS = 12\n",
    "NSLOTS = 3\n",
    "NSTEPS_ALL_SLOTS, NREST = divmod(NORDERS, NSLOTS)\n",
    "NSTEPS_ALL_SLOTS, NREST"
   ]
  },
  {
   "cell_type": "code",
   "execution_count": null,
   "metadata": {},
   "outputs": [],
   "source": [
    "def flatten(lst):\n",
    "    \"\"\"Make flat nested lists or tuples.\"\"\"\n",
    "    for item in lst:\n",
    "        if isinstance(item, Iterable) and not isinstance(item, str):\n",
    "            for x in flatten(item):\n",
    "                yield x\n",
    "        else:        \n",
    "            yield item"
   ]
  },
  {
   "cell_type": "code",
   "execution_count": null,
   "metadata": {},
   "outputs": [],
   "source": [
    "def get_permutations(sequence, n: int):\n",
    "    seq_length = len(sequence)\n",
    "    filled_slots, rest  = divmod(seq_length, n)\n",
    "    # combinations when all slots are full \n",
    "    # time of the task is max duration of single orders\n",
    "    #comb_all_slots = []\n",
    "    #for k in combinations(sequence, n):\n",
    "    #    comb_all_slots.append(k)\n",
    "\n",
    "    # combinations of rests \n",
    "    #comb_rest = []\n",
    "    #for k in combinations(sequence, rest):\n",
    "    #    comb_rest.append(k)\n",
    "\n",
    "   \n",
    "    comb_all_slots = combinations(sequence, n)\n",
    "    comb_rest = list(combinations(sequence, rest))\n",
    "    print(comb_rest)\n",
    "    \n",
    "    for seq in combinations(comb_all_slots, filled_slots):\n",
    "        f1 = list(flatten(seq))\n",
    "        if len(f1) != len(set(f1)):\n",
    "            continue\n",
    "\n",
    "        for r in comb_rest:\n",
    "            f2 = f1 + list(r)\n",
    "            if len(f2) == len(set(f2)):\n",
    "                yield f2\n"
   ]
  },
  {
   "cell_type": "code",
   "execution_count": null,
   "metadata": {},
   "outputs": [],
   "source": [
    "x, n = list(range(3)), 3"
   ]
  },
  {
   "cell_type": "code",
   "execution_count": null,
   "metadata": {},
   "outputs": [],
   "source": [
    "list(get_permutations(x, n))"
   ]
  },
  {
   "cell_type": "code",
   "execution_count": null,
   "metadata": {},
   "outputs": [],
   "source": [
    "import math"
   ]
  },
  {
   "cell_type": "code",
   "execution_count": null,
   "metadata": {},
   "outputs": [],
   "source": [
    "math.factorial(13)/math.factorial(3)/math.factorial(10)"
   ]
  },
  {
   "cell_type": "code",
   "execution_count": null,
   "metadata": {},
   "outputs": [],
   "source": [
    "math.factorial(286)/math.factorial(4)/math.factorial(282)"
   ]
  },
  {
   "cell_type": "code",
   "execution_count": null,
   "metadata": {},
   "outputs": [],
   "source": [
    "286*285*284*283/math.factorial(4)"
   ]
  },
  {
   "cell_type": "code",
   "execution_count": 17,
   "metadata": {},
   "outputs": [
    {
     "name": "stdout",
     "output_type": "stream",
     "text": [
      "1 1 1\n",
      "2 1 1\n",
      "3 1 1\n",
      "4 2 2\n",
      "5 2 3\n",
      "6 2 4\n",
      "7 3 5\n",
      "8 3 6\n",
      "9 3 7\n",
      "10 4 8\n",
      "11 4 9\n",
      "12 4 10\n",
      "13 5 11\n",
      "14 5 12\n",
      "15 5 13\n",
      "16 6 14\n",
      "17 6 15\n",
      "18 6 16\n",
      "19 7 17\n"
     ]
    }
   ],
   "source": [
    "for i in range(1, 20):\n",
    "    print(i, (i+2)//3, max(2, i-1) - 1) "
   ]
  },
  {
   "cell_type": "code",
   "execution_count": 19,
   "metadata": {},
   "outputs": [
    {
     "data": {
      "text/html": [
       "<div>\n",
       "<style scoped>\n",
       "    .dataframe tbody tr th:only-of-type {\n",
       "        vertical-align: middle;\n",
       "    }\n",
       "\n",
       "    .dataframe tbody tr th {\n",
       "        vertical-align: top;\n",
       "    }\n",
       "\n",
       "    .dataframe thead th {\n",
       "        text-align: right;\n",
       "    }\n",
       "</style>\n",
       "<table border=\"1\" class=\"dataframe\">\n",
       "  <thead>\n",
       "    <tr style=\"text-align: right;\">\n",
       "      <th></th>\n",
       "      <th>MatrixName</th>\n",
       "      <th>OrderSize</th>\n",
       "    </tr>\n",
       "  </thead>\n",
       "  <tbody>\n",
       "    <tr>\n",
       "      <th>0</th>\n",
       "      <td>Орион - 600</td>\n",
       "      <td>734</td>\n",
       "    </tr>\n",
       "    <tr>\n",
       "      <th>1</th>\n",
       "      <td>Орион - 700</td>\n",
       "      <td>722</td>\n",
       "    </tr>\n",
       "    <tr>\n",
       "      <th>2</th>\n",
       "      <td>Орион - 800</td>\n",
       "      <td>1622</td>\n",
       "    </tr>\n",
       "    <tr>\n",
       "      <th>3</th>\n",
       "      <td>Весна - 600</td>\n",
       "      <td>218</td>\n",
       "    </tr>\n",
       "    <tr>\n",
       "      <th>4</th>\n",
       "      <td>Весна  - 700</td>\n",
       "      <td>350</td>\n",
       "    </tr>\n",
       "    <tr>\n",
       "      <th>5</th>\n",
       "      <td>Весна  - 800</td>\n",
       "      <td>820</td>\n",
       "    </tr>\n",
       "    <tr>\n",
       "      <th>6</th>\n",
       "      <td>Сафари</td>\n",
       "      <td>292</td>\n",
       "    </tr>\n",
       "    <tr>\n",
       "      <th>7</th>\n",
       "      <td>Сафари 2</td>\n",
       "      <td>352</td>\n",
       "    </tr>\n",
       "    <tr>\n",
       "      <th>8</th>\n",
       "      <td>Сатурн ПГ</td>\n",
       "      <td>42</td>\n",
       "    </tr>\n",
       "    <tr>\n",
       "      <th>9</th>\n",
       "      <td>Сатурн ПО</td>\n",
       "      <td>584</td>\n",
       "    </tr>\n",
       "    <tr>\n",
       "      <th>10</th>\n",
       "      <td>Соло</td>\n",
       "      <td>374</td>\n",
       "    </tr>\n",
       "    <tr>\n",
       "      <th>11</th>\n",
       "      <td>Арабеска ПО 800</td>\n",
       "      <td>30</td>\n",
       "    </tr>\n",
       "    <tr>\n",
       "      <th>12</th>\n",
       "      <td>Октава</td>\n",
       "      <td>38</td>\n",
       "    </tr>\n",
       "  </tbody>\n",
       "</table>\n",
       "</div>"
      ],
      "text/plain": [
       "         MatrixName  OrderSize\n",
       "0       Орион - 600        734\n",
       "1       Орион - 700        722\n",
       "2       Орион - 800       1622\n",
       "3       Весна - 600        218\n",
       "4      Весна  - 700        350\n",
       "5      Весна  - 800        820\n",
       "6            Сафари        292\n",
       "7          Сафари 2        352\n",
       "8         Сатурн ПГ         42\n",
       "9         Сатурн ПО        584\n",
       "10             Соло        374\n",
       "11  Арабеска ПО 800         30\n",
       "12           Октава         38"
      ]
     },
     "execution_count": 19,
     "metadata": {},
     "output_type": "execute_result"
    }
   ],
   "source": [
    "input_file = \"../data/orders.xlsx\"\n",
    "sheetname = \"Orders\"\n",
    "df_orders = pd.read_excel(input_file, sheetname, nrows=None)\n",
    "df_orders"
   ]
  },
  {
   "cell_type": "code",
   "execution_count": 20,
   "metadata": {},
   "outputs": [
    {
     "data": {
      "text/plain": [
       "(OrderSize    475.230769\n",
       " dtype: float64, MatrixName    Соло\n",
       " OrderSize     1622\n",
       " dtype: object)"
      ]
     },
     "execution_count": 20,
     "metadata": {},
     "output_type": "execute_result"
    }
   ],
   "source": [
    "df_orders.mean(), df_orders.max()"
   ]
  },
  {
   "cell_type": "code",
   "execution_count": null,
   "metadata": {},
   "outputs": [],
   "source": []
  },
  {
   "cell_type": "code",
   "execution_count": null,
   "metadata": {},
   "outputs": [],
   "source": []
  },
  {
   "cell_type": "code",
   "execution_count": null,
   "metadata": {},
   "outputs": [],
   "source": []
  },
  {
   "cell_type": "code",
   "execution_count": null,
   "metadata": {},
   "outputs": [],
   "source": []
  },
  {
   "cell_type": "code",
   "execution_count": null,
   "metadata": {},
   "outputs": [],
   "source": []
  },
  {
   "cell_type": "code",
   "execution_count": null,
   "metadata": {},
   "outputs": [],
   "source": []
  }
 ],
 "metadata": {
  "kernelspec": {
   "display_name": "Python 3",
   "language": "python",
   "name": "python3"
  },
  "language_info": {
   "codemirror_mode": {
    "name": "ipython",
    "version": 3
   },
   "file_extension": ".py",
   "mimetype": "text/x-python",
   "name": "python",
   "nbconvert_exporter": "python",
   "pygments_lexer": "ipython3",
   "version": "3.7.1"
  }
 },
 "nbformat": 4,
 "nbformat_minor": 2
}
