{
 "cells": [
  {
   "cell_type": "markdown",
   "metadata": {},
   "source": [
    "# Test"
   ]
  },
  {
   "cell_type": "code",
   "execution_count": 1,
   "metadata": {},
   "outputs": [],
   "source": [
    "from itertools import combinations\n",
    "from collections import Iterable"
   ]
  },
  {
   "cell_type": "code",
   "execution_count": 2,
   "metadata": {},
   "outputs": [
    {
     "data": {
      "text/plain": [
       "(4, 0)"
      ]
     },
     "execution_count": 2,
     "metadata": {},
     "output_type": "execute_result"
    }
   ],
   "source": [
    "NORDERS = 12\n",
    "NSLOTS = 3\n",
    "NSTEPS_ALL_SLOTS, NREST = divmod(NORDERS, NSLOTS)\n",
    "NSTEPS_ALL_SLOTS, NREST"
   ]
  },
  {
   "cell_type": "code",
   "execution_count": 3,
   "metadata": {},
   "outputs": [],
   "source": [
    "def flatten(lst):\n",
    "    \"\"\"Make flat nested lists or tuples.\"\"\"\n",
    "    for item in lst:\n",
    "        if isinstance(item, Iterable) and not isinstance(item, str):\n",
    "            for x in flatten(item):\n",
    "                yield x\n",
    "        else:        \n",
    "            yield item"
   ]
  },
  {
   "cell_type": "code",
   "execution_count": 7,
   "metadata": {},
   "outputs": [],
   "source": [
    "def get_permutations(sequence, n: int):\n",
    "    seq_length = len(sequence)\n",
    "    filled_slots, rest  = divmod(seq_length, n)\n",
    "    # combinations when all slots are full \n",
    "    # time of the task is max duration of single orders\n",
    "    comb_all_slots = []\n",
    "    for k in combinations(sequence, n):\n",
    "        comb_all_slots.append(k)\n",
    "\n",
    "    # combinations of rests \n",
    "    comb_rest = []\n",
    "    for k in combinations(sequence, rest):\n",
    "        comb_rest.append(k)\n",
    "\n",
    "    for seq in combinations(comb_all_slots, filled_slots):\n",
    "        f1 = list(flatten(seq))\n",
    "        if len(f1) != len(set(f1)):\n",
    "            continue\n",
    "\n",
    "        for r in comb_rest:\n",
    "            f2 = f1 + list(r)\n",
    "            if len(f2) == len(set(f2)):\n",
    "                yield f2\n"
   ]
  },
  {
   "cell_type": "code",
   "execution_count": 32,
   "metadata": {},
   "outputs": [],
   "source": [
    "x, n = list(range(7)), 3"
   ]
  },
  {
   "cell_type": "code",
   "execution_count": 33,
   "metadata": {},
   "outputs": [
    {
     "data": {
      "text/plain": [
       "[[0, 1, 2, 3, 4, 5, 6],\n",
       " [0, 1, 2, 3, 4, 6, 5],\n",
       " [0, 1, 2, 3, 5, 6, 4],\n",
       " [0, 1, 2, 4, 5, 6, 3],\n",
       " [0, 1, 3, 2, 4, 5, 6],\n",
       " [0, 1, 3, 2, 4, 6, 5],\n",
       " [0, 1, 3, 2, 5, 6, 4],\n",
       " [0, 1, 3, 4, 5, 6, 2],\n",
       " [0, 1, 4, 2, 3, 5, 6],\n",
       " [0, 1, 4, 2, 3, 6, 5],\n",
       " [0, 1, 4, 2, 5, 6, 3],\n",
       " [0, 1, 4, 3, 5, 6, 2],\n",
       " [0, 1, 5, 2, 3, 4, 6],\n",
       " [0, 1, 5, 2, 3, 6, 4],\n",
       " [0, 1, 5, 2, 4, 6, 3],\n",
       " [0, 1, 5, 3, 4, 6, 2],\n",
       " [0, 1, 6, 2, 3, 4, 5],\n",
       " [0, 1, 6, 2, 3, 5, 4],\n",
       " [0, 1, 6, 2, 4, 5, 3],\n",
       " [0, 1, 6, 3, 4, 5, 2],\n",
       " [0, 2, 3, 1, 4, 5, 6],\n",
       " [0, 2, 3, 1, 4, 6, 5],\n",
       " [0, 2, 3, 1, 5, 6, 4],\n",
       " [0, 2, 3, 4, 5, 6, 1],\n",
       " [0, 2, 4, 1, 3, 5, 6],\n",
       " [0, 2, 4, 1, 3, 6, 5],\n",
       " [0, 2, 4, 1, 5, 6, 3],\n",
       " [0, 2, 4, 3, 5, 6, 1],\n",
       " [0, 2, 5, 1, 3, 4, 6],\n",
       " [0, 2, 5, 1, 3, 6, 4],\n",
       " [0, 2, 5, 1, 4, 6, 3],\n",
       " [0, 2, 5, 3, 4, 6, 1],\n",
       " [0, 2, 6, 1, 3, 4, 5],\n",
       " [0, 2, 6, 1, 3, 5, 4],\n",
       " [0, 2, 6, 1, 4, 5, 3],\n",
       " [0, 2, 6, 3, 4, 5, 1],\n",
       " [0, 3, 4, 1, 2, 5, 6],\n",
       " [0, 3, 4, 1, 2, 6, 5],\n",
       " [0, 3, 4, 1, 5, 6, 2],\n",
       " [0, 3, 4, 2, 5, 6, 1],\n",
       " [0, 3, 5, 1, 2, 4, 6],\n",
       " [0, 3, 5, 1, 2, 6, 4],\n",
       " [0, 3, 5, 1, 4, 6, 2],\n",
       " [0, 3, 5, 2, 4, 6, 1],\n",
       " [0, 3, 6, 1, 2, 4, 5],\n",
       " [0, 3, 6, 1, 2, 5, 4],\n",
       " [0, 3, 6, 1, 4, 5, 2],\n",
       " [0, 3, 6, 2, 4, 5, 1],\n",
       " [0, 4, 5, 1, 2, 3, 6],\n",
       " [0, 4, 5, 1, 2, 6, 3],\n",
       " [0, 4, 5, 1, 3, 6, 2],\n",
       " [0, 4, 5, 2, 3, 6, 1],\n",
       " [0, 4, 6, 1, 2, 3, 5],\n",
       " [0, 4, 6, 1, 2, 5, 3],\n",
       " [0, 4, 6, 1, 3, 5, 2],\n",
       " [0, 4, 6, 2, 3, 5, 1],\n",
       " [0, 5, 6, 1, 2, 3, 4],\n",
       " [0, 5, 6, 1, 2, 4, 3],\n",
       " [0, 5, 6, 1, 3, 4, 2],\n",
       " [0, 5, 6, 2, 3, 4, 1],\n",
       " [1, 2, 3, 4, 5, 6, 0],\n",
       " [1, 2, 4, 3, 5, 6, 0],\n",
       " [1, 2, 5, 3, 4, 6, 0],\n",
       " [1, 2, 6, 3, 4, 5, 0],\n",
       " [1, 3, 4, 2, 5, 6, 0],\n",
       " [1, 3, 5, 2, 4, 6, 0],\n",
       " [1, 3, 6, 2, 4, 5, 0],\n",
       " [1, 4, 5, 2, 3, 6, 0],\n",
       " [1, 4, 6, 2, 3, 5, 0],\n",
       " [1, 5, 6, 2, 3, 4, 0]]"
      ]
     },
     "execution_count": 33,
     "metadata": {},
     "output_type": "execute_result"
    }
   ],
   "source": [
    "list(get_permutations(x, n))"
   ]
  },
  {
   "cell_type": "code",
   "execution_count": null,
   "metadata": {},
   "outputs": [],
   "source": []
  },
  {
   "cell_type": "code",
   "execution_count": null,
   "metadata": {},
   "outputs": [],
   "source": []
  },
  {
   "cell_type": "code",
   "execution_count": null,
   "metadata": {},
   "outputs": [],
   "source": []
  },
  {
   "cell_type": "code",
   "execution_count": null,
   "metadata": {},
   "outputs": [],
   "source": []
  },
  {
   "cell_type": "code",
   "execution_count": null,
   "metadata": {},
   "outputs": [],
   "source": []
  },
  {
   "cell_type": "code",
   "execution_count": null,
   "metadata": {},
   "outputs": [],
   "source": []
  }
 ],
 "metadata": {
  "kernelspec": {
   "display_name": "Python 3",
   "language": "python",
   "name": "python3"
  },
  "language_info": {
   "codemirror_mode": {
    "name": "ipython",
    "version": 3
   },
   "file_extension": ".py",
   "mimetype": "text/x-python",
   "name": "python",
   "nbconvert_exporter": "python",
   "pygments_lexer": "ipython3",
   "version": "3.7.1"
  }
 },
 "nbformat": 4,
 "nbformat_minor": 2
}
