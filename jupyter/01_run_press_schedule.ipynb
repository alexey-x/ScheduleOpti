{
 "cells": [
  {
   "cell_type": "markdown",
   "metadata": {},
   "source": [
    "# Оптимизировать производство\n",
    "\n"
   ]
  },
  {
   "cell_type": "code",
   "execution_count": 1,
   "metadata": {},
   "outputs": [],
   "source": [
    "import pandas as pd\n",
    "import pulp as plp"
   ]
  },
  {
   "cell_type": "code",
   "execution_count": 2,
   "metadata": {},
   "outputs": [],
   "source": [
    "input_file = \"input_data.xlsx\"\n",
    "output_file = \"result.xlsx\""
   ]
  },
  {
   "cell_type": "code",
   "execution_count": 3,
   "metadata": {
    "scrolled": true
   },
   "outputs": [
    {
     "data": {
      "text/html": [
       "<div>\n",
       "<style scoped>\n",
       "    .dataframe tbody tr th:only-of-type {\n",
       "        vertical-align: middle;\n",
       "    }\n",
       "\n",
       "    .dataframe tbody tr th {\n",
       "        vertical-align: top;\n",
       "    }\n",
       "\n",
       "    .dataframe thead th {\n",
       "        text-align: right;\n",
       "    }\n",
       "</style>\n",
       "<table border=\"1\" class=\"dataframe\">\n",
       "  <thead>\n",
       "    <tr style=\"text-align: right;\">\n",
       "      <th></th>\n",
       "      <th>MatrixName</th>\n",
       "      <th>Order</th>\n",
       "    </tr>\n",
       "  </thead>\n",
       "  <tbody>\n",
       "    <tr>\n",
       "      <th>0</th>\n",
       "      <td>Орион - 600</td>\n",
       "      <td>150</td>\n",
       "    </tr>\n",
       "    <tr>\n",
       "      <th>1</th>\n",
       "      <td>Орион - 700</td>\n",
       "      <td>100</td>\n",
       "    </tr>\n",
       "    <tr>\n",
       "      <th>2</th>\n",
       "      <td>Орион - 800</td>\n",
       "      <td>200</td>\n",
       "    </tr>\n",
       "    <tr>\n",
       "      <th>3</th>\n",
       "      <td>Весна - 600</td>\n",
       "      <td>218</td>\n",
       "    </tr>\n",
       "    <tr>\n",
       "      <th>4</th>\n",
       "      <td>Весна  - 700</td>\n",
       "      <td>350</td>\n",
       "    </tr>\n",
       "    <tr>\n",
       "      <th>5</th>\n",
       "      <td>Весна  - 800</td>\n",
       "      <td>820</td>\n",
       "    </tr>\n",
       "    <tr>\n",
       "      <th>6</th>\n",
       "      <td>Сафари</td>\n",
       "      <td>292</td>\n",
       "    </tr>\n",
       "    <tr>\n",
       "      <th>7</th>\n",
       "      <td>Сафари 2</td>\n",
       "      <td>352</td>\n",
       "    </tr>\n",
       "    <tr>\n",
       "      <th>8</th>\n",
       "      <td>Сатурн ПГ</td>\n",
       "      <td>42</td>\n",
       "    </tr>\n",
       "    <tr>\n",
       "      <th>9</th>\n",
       "      <td>Сатурн ПО</td>\n",
       "      <td>584</td>\n",
       "    </tr>\n",
       "    <tr>\n",
       "      <th>10</th>\n",
       "      <td>Соло</td>\n",
       "      <td>384</td>\n",
       "    </tr>\n",
       "  </tbody>\n",
       "</table>\n",
       "</div>"
      ],
      "text/plain": [
       "      MatrixName  Order\n",
       "0    Орион - 600    150\n",
       "1    Орион - 700    100\n",
       "2    Орион - 800    200\n",
       "3    Весна - 600    218\n",
       "4   Весна  - 700    350\n",
       "5   Весна  - 800    820\n",
       "6         Сафари    292\n",
       "7       Сафари 2    352\n",
       "8      Сатурн ПГ     42\n",
       "9      Сатурн ПО    584\n",
       "10          Соло    384"
      ]
     },
     "execution_count": 3,
     "metadata": {},
     "output_type": "execute_result"
    }
   ],
   "source": [
    "sheetname = \"TEST\"\n",
    "df_orders = pd.read_excel(input_file, sheetname)\n",
    "df_orders"
   ]
  },
  {
   "cell_type": "markdown",
   "metadata": {},
   "source": [
    "- NORDERS\n",
    "- NLOT - кол-во мест для матриц пресса\n",
    "- NSTEPS - оценка на максимальное кол-во шагов, чтобы выполнить все заказы (ПЕРЕСМОТРЕТЬ!!! Может неправильно!)\n",
    "- TCHANGE\n",
    "- THEAT\n",
    "- TMAX - оценка на максимальное время выполнения любого заказа"
   ]
  },
  {
   "cell_type": "code",
   "execution_count": 4,
   "metadata": {},
   "outputs": [
    {
     "data": {
      "text/html": [
       "<div>\n",
       "<style scoped>\n",
       "    .dataframe tbody tr th:only-of-type {\n",
       "        vertical-align: middle;\n",
       "    }\n",
       "\n",
       "    .dataframe tbody tr th {\n",
       "        vertical-align: top;\n",
       "    }\n",
       "\n",
       "    .dataframe thead th {\n",
       "        text-align: right;\n",
       "    }\n",
       "</style>\n",
       "<table border=\"1\" class=\"dataframe\">\n",
       "  <thead>\n",
       "    <tr style=\"text-align: right;\">\n",
       "      <th></th>\n",
       "      <th>MatrixName</th>\n",
       "      <th>Order</th>\n",
       "    </tr>\n",
       "  </thead>\n",
       "  <tbody>\n",
       "    <tr>\n",
       "      <th>0</th>\n",
       "      <td>Орион - 600</td>\n",
       "      <td>150</td>\n",
       "    </tr>\n",
       "    <tr>\n",
       "      <th>1</th>\n",
       "      <td>Орион - 700</td>\n",
       "      <td>100</td>\n",
       "    </tr>\n",
       "  </tbody>\n",
       "</table>\n",
       "</div>"
      ],
      "text/plain": [
       "    MatrixName  Order\n",
       "0  Орион - 600    150\n",
       "1  Орион - 700    100"
      ]
     },
     "execution_count": 4,
     "metadata": {},
     "output_type": "execute_result"
    }
   ],
   "source": [
    "df_orders = df_orders[:2]\n",
    "df_orders"
   ]
  },
  {
   "cell_type": "code",
   "execution_count": 5,
   "metadata": {},
   "outputs": [],
   "source": [
    "NORDERS = df_orders.shape[0]\n",
    "NLOT = 1\n",
    "#NSTEPS = int(df_orders.Order.sum()/df_orders.Order.mean()/(NLOT-1)) + 1\n",
    "NSTEPS = 2 #int((NORDERS)/NLOT)+1\n",
    "\n",
    "TCHANGE = 20\n",
    "THEAT = 40\n",
    "TMAX = 1000#int(df_orders.Order.sum()/NLOT)"
   ]
  },
  {
   "cell_type": "code",
   "execution_count": 6,
   "metadata": {},
   "outputs": [
    {
     "data": {
      "text/plain": [
       "(2, 1, 2, 1000)"
      ]
     },
     "execution_count": 6,
     "metadata": {},
     "output_type": "execute_result"
    }
   ],
   "source": [
    "NORDERS, NLOT, NSTEPS, TMAX "
   ]
  },
  {
   "cell_type": "code",
   "execution_count": 7,
   "metadata": {},
   "outputs": [
    {
     "data": {
      "text/plain": [
       "{'Орион - 600', 'Орион - 700'}"
      ]
     },
     "execution_count": 7,
     "metadata": {},
     "output_type": "execute_result"
    }
   ],
   "source": [
    "ORDERS = set(df_orders.MatrixName.values)\n",
    "ORDERS"
   ]
  },
  {
   "cell_type": "code",
   "execution_count": 8,
   "metadata": {},
   "outputs": [],
   "source": [
    "def convert_dataframe_to_dict(dataframe, key_columns, value_column):\n",
    "    return (\n",
    "        dataframe.loc[:, key_columns + [value_column]]\n",
    "        .set_index(key_columns)\n",
    "        .to_dict()[value_column]\n",
    "    )"
   ]
  },
  {
   "cell_type": "code",
   "execution_count": 9,
   "metadata": {},
   "outputs": [
    {
     "data": {
      "text/plain": [
       "{'Орион - 600': 150, 'Орион - 700': 100}"
      ]
     },
     "execution_count": 9,
     "metadata": {},
     "output_type": "execute_result"
    }
   ],
   "source": [
    "DURATION = convert_dataframe_to_dict(df_orders, [\"MatrixName\"], \"Order\")\n",
    "DURATION"
   ]
  },
  {
   "cell_type": "markdown",
   "metadata": {},
   "source": [
    "## Задача"
   ]
  },
  {
   "cell_type": "markdown",
   "metadata": {},
   "source": [
    "$a_{j, k, m}$ - заказ j выполнился на шаге k в лоте m\n",
    "\n",
    "$t_{j, m}$ - время начала выполнения заказа j, в лоте m\n",
    "\n",
    "$n_j$ - количество отановок пока выполнлся заказ j"
   ]
  },
  {
   "cell_type": "code",
   "execution_count": 10,
   "metadata": {},
   "outputs": [],
   "source": [
    "prob = plp.LpProblem(\"ProductionPlan\", plp.LpMinimize)"
   ]
  },
  {
   "cell_type": "code",
   "execution_count": 11,
   "metadata": {},
   "outputs": [],
   "source": [
    "a = plp.LpVariable.dicts(\n",
    "            \"a\",\n",
    "            [\n",
    "                (j, k, m) for j in ORDERS for k in range(NSTEPS) for m in range(NLOT)\n",
    "            ],\n",
    "            cat=plp.LpBinary,\n",
    "        )"
   ]
  },
  {
   "cell_type": "code",
   "execution_count": 12,
   "metadata": {},
   "outputs": [
    {
     "data": {
      "text/plain": [
       "{('Орион - 700', 0, 0): a_('Орион___700',_0,_0),\n",
       " ('Орион - 700', 1, 0): a_('Орион___700',_1,_0),\n",
       " ('Орион - 600', 0, 0): a_('Орион___600',_0,_0),\n",
       " ('Орион - 600', 1, 0): a_('Орион___600',_1,_0)}"
      ]
     },
     "execution_count": 12,
     "metadata": {},
     "output_type": "execute_result"
    }
   ],
   "source": [
    "a"
   ]
  },
  {
   "cell_type": "code",
   "execution_count": 13,
   "metadata": {},
   "outputs": [],
   "source": [
    "t = plp.LpVariable.dicts(\n",
    "            \"t\",\n",
    "            [(j, k, m) for j in ORDERS for k in range(NSTEPS) for m in range(NLOT)],\n",
    "            lowBound=0\n",
    "        )"
   ]
  },
  {
   "cell_type": "code",
   "execution_count": 14,
   "metadata": {},
   "outputs": [],
   "source": [
    "n = plp.LpVariable.dicts(\n",
    "            \"n\",\n",
    "            [(j, k) for j in ORDERS for k in range(NSTEPS)], cat=plp.LpInteger, lowBound=0, upBound=NSTEPS-1)"
   ]
  },
  {
   "cell_type": "code",
   "execution_count": 15,
   "metadata": {},
   "outputs": [],
   "source": [
    "# objective\n",
    "prob += plp.lpSum(t[j, k, m] + (DURATION[j] + THEAT) * a[j, k, m] for j in ORDERS for k in range(NSTEPS) for m in range(NLOT)) \\\n",
    "     + plp.lpSum(n[j, k]*TCHANGE for j in ORDERS for k in range(NSTEPS))"
   ]
  },
  {
   "cell_type": "code",
   "execution_count": 16,
   "metadata": {},
   "outputs": [],
   "source": [
    "for j in ORDERS:\n",
    "    prob += plp.lpSum(a[j, k, m] for k in range(NSTEPS) for m in range(NLOT)) == 1, f\"job:{j}\""
   ]
  },
  {
   "cell_type": "code",
   "execution_count": 17,
   "metadata": {},
   "outputs": [],
   "source": [
    "#for k in range(NSTEPS):\n",
    "#    for m in range(NLOT):\n",
    "#        prob += plp.lpSum(a[j, k, m] for j in ORDERS) == 1, f\"step:{k}, lot:{m}\""
   ]
  },
  {
   "cell_type": "code",
   "execution_count": 18,
   "metadata": {},
   "outputs": [],
   "source": [
    "# wrong\n",
    "#for j in ORDERS:\n",
    "#    for k in range(NSTEPS):\n",
    "#        prob += plp.lpSum(a[j, k, m] for m in range(NLOT)) <= 1"
   ]
  },
  {
   "cell_type": "code",
   "execution_count": 19,
   "metadata": {},
   "outputs": [],
   "source": [
    "for m in range(NLOT):\n",
    "    for k in range(NSTEPS - 1):\n",
    "        for j1 in ORDERS:\n",
    "            for j2 in ORDERS:\n",
    "                if j1 == j2:\n",
    "                    continue\n",
    "                prob += t[j1, k, m] + (DURATION[j1] + THEAT) + TCHANGE * n[j1, k] - t[j2, k+1, m] <= TMAX * (1 - a[j2, k+1, m])\n",
    "                prob += t[j2, k, m] + (DURATION[j2] + THEAT) + TCHANGE * n[j2, k] - t[j1, k+1, m] <= TMAX * (1 - a[j1, k+1, m])"
   ]
  },
  {
   "cell_type": "code",
   "execution_count": 20,
   "metadata": {},
   "outputs": [],
   "source": [
    "#for m in range(NLOT):\n",
    "#    for k in range(NSTEPS):\n",
    "#        for j in ORDERS:\n",
    "#            prob += t[j, k, m] <= (TMAX - DURATION[j]) * a[j, k, m]"
   ]
  },
  {
   "cell_type": "code",
   "execution_count": 21,
   "metadata": {},
   "outputs": [
    {
     "data": {
      "text/plain": [
       "(1, 330.0)"
      ]
     },
     "execution_count": 21,
     "metadata": {},
     "output_type": "execute_result"
    }
   ],
   "source": [
    "prob.solve(), plp.value(prob.objective)"
   ]
  },
  {
   "cell_type": "code",
   "execution_count": 22,
   "metadata": {},
   "outputs": [
    {
     "data": {
      "text/plain": [
       "'Optimal'"
      ]
     },
     "execution_count": 22,
     "metadata": {},
     "output_type": "execute_result"
    }
   ],
   "source": [
    "plp.LpStatus[prob.status]"
   ]
  },
  {
   "cell_type": "code",
   "execution_count": 23,
   "metadata": {
    "scrolled": true
   },
   "outputs": [
    {
     "name": "stdout",
     "output_type": "stream",
     "text": [
      "a_('Орион___600',_0,_0) = 1.0\n",
      "a_('Орион___600',_1,_0) = 0.0\n",
      "a_('Орион___700',_0,_0) = 1.0\n",
      "a_('Орион___700',_1,_0) = 0.0\n",
      "n_('Орион___600',_0) = 0.0\n",
      "n_('Орион___600',_1) = 0.0\n",
      "n_('Орион___700',_0) = 0.0\n",
      "n_('Орион___700',_1) = 0.0\n",
      "t_('Орион___600',_0,_0) = 0.0\n",
      "t_('Орион___600',_1,_0) = 0.0\n",
      "t_('Орион___700',_0,_0) = 0.0\n",
      "t_('Орион___700',_1,_0) = 0.0\n"
     ]
    }
   ],
   "source": [
    "for v in prob.variables():\n",
    "    print(v.name, \"=\", v.varValue)"
   ]
  },
  {
   "cell_type": "code",
   "execution_count": 24,
   "metadata": {},
   "outputs": [
    {
     "data": {
      "text/plain": [
       "ProductionPlan:\n",
       "MINIMIZE\n",
       "190*a_('Орион___600',_0,_0) + 190*a_('Орион___600',_1,_0) + 140*a_('Орион___700',_0,_0) + 140*a_('Орион___700',_1,_0) + 20*n_('Орион___600',_0) + 20*n_('Орион___600',_1) + 20*n_('Орион___700',_0) + 20*n_('Орион___700',_1) + 1*t_('Орион___600',_0,_0) + 1*t_('Орион___600',_1,_0) + 1*t_('Орион___700',_0,_0) + 1*t_('Орион___700',_1,_0) + 0\n",
       "SUBJECT TO\n",
       "job:Орион___700: a_('Орион___700',_0,_0) + a_('Орион___700',_1,_0) = 1\n",
       "\n",
       "job:Орион___600: a_('Орион___600',_0,_0) + a_('Орион___600',_1,_0) = 1\n",
       "\n",
       "_C1: 1000 a_('Орион___600',_1,_0) + 20 n_('Орион___700',_0)\n",
       " - t_('Орион___600',_1,_0) + t_('Орион___700',_0,_0) <= 860\n",
       "\n",
       "_C2: 1000 a_('Орион___700',_1,_0) + 20 n_('Орион___600',_0)\n",
       " + t_('Орион___600',_0,_0) - t_('Орион___700',_1,_0) <= 810\n",
       "\n",
       "_C3: 1000 a_('Орион___700',_1,_0) + 20 n_('Орион___600',_0)\n",
       " + t_('Орион___600',_0,_0) - t_('Орион___700',_1,_0) <= 810\n",
       "\n",
       "_C4: 1000 a_('Орион___600',_1,_0) + 20 n_('Орион___700',_0)\n",
       " - t_('Орион___600',_1,_0) + t_('Орион___700',_0,_0) <= 860\n",
       "\n",
       "VARIABLES\n",
       "0 <= a_('Орион___600',_0,_0) <= 1 Integer\n",
       "0 <= a_('Орион___600',_1,_0) <= 1 Integer\n",
       "0 <= a_('Орион___700',_0,_0) <= 1 Integer\n",
       "0 <= a_('Орион___700',_1,_0) <= 1 Integer\n",
       "0 <= n_('Орион___600',_0) <= 1 Integer\n",
       "0 <= n_('Орион___600',_1) <= 1 Integer\n",
       "0 <= n_('Орион___700',_0) <= 1 Integer\n",
       "0 <= n_('Орион___700',_1) <= 1 Integer\n",
       "t_('Орион___600',_0,_0) Continuous\n",
       "t_('Орион___600',_1,_0) Continuous\n",
       "t_('Орион___700',_0,_0) Continuous\n",
       "t_('Орион___700',_1,_0) Continuous"
      ]
     },
     "execution_count": 24,
     "metadata": {},
     "output_type": "execute_result"
    }
   ],
   "source": [
    "prob"
   ]
  },
  {
   "cell_type": "code",
   "execution_count": null,
   "metadata": {},
   "outputs": [],
   "source": []
  },
  {
   "cell_type": "code",
   "execution_count": null,
   "metadata": {},
   "outputs": [],
   "source": []
  },
  {
   "cell_type": "code",
   "execution_count": null,
   "metadata": {},
   "outputs": [],
   "source": []
  },
  {
   "cell_type": "code",
   "execution_count": null,
   "metadata": {},
   "outputs": [],
   "source": []
  },
  {
   "cell_type": "code",
   "execution_count": null,
   "metadata": {},
   "outputs": [],
   "source": []
  },
  {
   "cell_type": "code",
   "execution_count": null,
   "metadata": {},
   "outputs": [],
   "source": []
  }
 ],
 "metadata": {
  "kernelspec": {
   "display_name": "Python 3",
   "language": "python",
   "name": "python3"
  },
  "language_info": {
   "codemirror_mode": {
    "name": "ipython",
    "version": 3
   },
   "file_extension": ".py",
   "mimetype": "text/x-python",
   "name": "python",
   "nbconvert_exporter": "python",
   "pygments_lexer": "ipython3",
   "version": "3.7.1"
  }
 },
 "nbformat": 4,
 "nbformat_minor": 2
}
