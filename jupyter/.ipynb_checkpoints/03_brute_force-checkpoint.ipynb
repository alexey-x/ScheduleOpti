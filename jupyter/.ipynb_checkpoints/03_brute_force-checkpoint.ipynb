{
 "cells": [
  {
   "cell_type": "markdown",
   "metadata": {},
   "source": [
    "# Оптимизировать производство\n",
    "\n"
   ]
  },
  {
   "cell_type": "code",
   "execution_count": 1,
   "metadata": {},
   "outputs": [],
   "source": [
    "import numpy as np\n",
    "import pandas as pd\n",
    "\n",
    "from itertools import combinations"
   ]
  },
  {
   "cell_type": "code",
   "execution_count": 2,
   "metadata": {},
   "outputs": [],
   "source": [
    "input_file = \"input_data.xlsx\"\n",
    "output_file = \"result.xlsx\""
   ]
  },
  {
   "cell_type": "code",
   "execution_count": 3,
   "metadata": {
    "scrolled": true
   },
   "outputs": [
    {
     "data": {
      "text/html": [
       "<div>\n",
       "<style scoped>\n",
       "    .dataframe tbody tr th:only-of-type {\n",
       "        vertical-align: middle;\n",
       "    }\n",
       "\n",
       "    .dataframe tbody tr th {\n",
       "        vertical-align: top;\n",
       "    }\n",
       "\n",
       "    .dataframe thead th {\n",
       "        text-align: right;\n",
       "    }\n",
       "</style>\n",
       "<table border=\"1\" class=\"dataframe\">\n",
       "  <thead>\n",
       "    <tr style=\"text-align: right;\">\n",
       "      <th></th>\n",
       "      <th>MatrixName</th>\n",
       "      <th>OrderSize</th>\n",
       "    </tr>\n",
       "  </thead>\n",
       "  <tbody>\n",
       "    <tr>\n",
       "      <th>0</th>\n",
       "      <td>Орион - 600</td>\n",
       "      <td>734</td>\n",
       "    </tr>\n",
       "    <tr>\n",
       "      <th>1</th>\n",
       "      <td>Орион - 700</td>\n",
       "      <td>722</td>\n",
       "    </tr>\n",
       "    <tr>\n",
       "      <th>2</th>\n",
       "      <td>Орион - 800</td>\n",
       "      <td>1622</td>\n",
       "    </tr>\n",
       "    <tr>\n",
       "      <th>3</th>\n",
       "      <td>Весна - 600</td>\n",
       "      <td>218</td>\n",
       "    </tr>\n",
       "  </tbody>\n",
       "</table>\n",
       "</div>"
      ],
      "text/plain": [
       "    MatrixName  OrderSize\n",
       "0  Орион - 600        734\n",
       "1  Орион - 700        722\n",
       "2  Орион - 800       1622\n",
       "3  Весна - 600        218"
      ]
     },
     "execution_count": 3,
     "metadata": {},
     "output_type": "execute_result"
    }
   ],
   "source": [
    "sheetname = \"Orders\"\n",
    "df_orders = pd.read_excel(input_file, sheetname, nrows=4)\n",
    "df_orders"
   ]
  },
  {
   "cell_type": "markdown",
   "metadata": {},
   "source": [
    "- NORDERS\n",
    "- NLOT - кол-во мест для матриц пресса\n",
    "- TCHANGE\n",
    "- THEAT\n",
    "- DIFF_TOT_TIME"
   ]
  },
  {
   "cell_type": "code",
   "execution_count": 4,
   "metadata": {},
   "outputs": [],
   "source": [
    "NORDERS = df_orders.shape[0]\n",
    "NLOT = 3\n",
    "\n",
    "TCHANGE = 20\n",
    "THEAT = 40"
   ]
  },
  {
   "cell_type": "code",
   "execution_count": 5,
   "metadata": {},
   "outputs": [
    {
     "data": {
      "text/plain": [
       "{'Весна - 600', 'Орион - 600', 'Орион - 700', 'Орион - 800'}"
      ]
     },
     "execution_count": 5,
     "metadata": {},
     "output_type": "execute_result"
    }
   ],
   "source": [
    "ORDERS = set(df_orders.MatrixName.values)\n",
    "ORDERS"
   ]
  },
  {
   "cell_type": "code",
   "execution_count": 6,
   "metadata": {},
   "outputs": [],
   "source": [
    "def convert_dataframe_to_dict(dataframe, key_columns, value_column):\n",
    "    return (\n",
    "        dataframe.loc[:, key_columns + [value_column]]\n",
    "        .set_index(key_columns)\n",
    "        .to_dict()[value_column]\n",
    "    )"
   ]
  },
  {
   "cell_type": "code",
   "execution_count": 7,
   "metadata": {},
   "outputs": [
    {
     "data": {
      "text/plain": [
       "{'Орион - 600': 734,\n",
       " 'Орион - 700': 722,\n",
       " 'Орион - 800': 1622,\n",
       " 'Весна - 600': 218}"
      ]
     },
     "execution_count": 7,
     "metadata": {},
     "output_type": "execute_result"
    }
   ],
   "source": [
    "DURATION = convert_dataframe_to_dict(df_orders, [\"MatrixName\"], \"OrderSize\")\n",
    "DURATION"
   ]
  },
  {
   "cell_type": "markdown",
   "metadata": {},
   "source": [
    "## Задача"
   ]
  },
  {
   "cell_type": "markdown",
   "metadata": {},
   "source": [
    "lot_states = ['changing', 'heating', 'empty', 'busy']"
   ]
  },
  {
   "cell_type": "code",
   "execution_count": 8,
   "metadata": {},
   "outputs": [],
   "source": [
    "class Machine:\n",
    "    def __init__(self):\n",
    "        self.idle_lot = None #\n",
    "        self.lot = np.zeros(NLOT)\n",
    "        \n",
    "    def is_idle_lot(self):\n",
    "        return (self.lot == 0).any()\n",
    "    \n",
    "    def get_idle_lot(self):\n",
    "        return np.where(self.lot == 0)[0]\n",
    "    \n",
    "    def set_order_to_lot(self, order, lot_number):\n",
    "        assert self.lot[lot_number] == 0\n",
    "        self.lot[lot_number] = order\n",
    "        \n",
    "    def get_first_done_lot(self):\n",
    "        return self.lot[self.lot != 0].argmin()\n",
    "    \n",
    "    def get_done_value(self):\n",
    "        return self.lot[self.get_first_done_lot()]\n",
    "    \n",
    "    def run(self):\n",
    "        self.lot[self.lot != 0] -= self.get_done_value()\n",
    "        "
   ]
  },
  {
   "cell_type": "code",
   "execution_count": 9,
   "metadata": {},
   "outputs": [
    {
     "data": {
      "text/plain": [
       "array([0., 0., 0.])"
      ]
     },
     "execution_count": 9,
     "metadata": {},
     "output_type": "execute_result"
    }
   ],
   "source": [
    "m = Machine()\n",
    "m.lot"
   ]
  },
  {
   "cell_type": "code",
   "execution_count": null,
   "metadata": {},
   "outputs": [],
   "source": []
  },
  {
   "cell_type": "code",
   "execution_count": null,
   "metadata": {},
   "outputs": [],
   "source": []
  },
  {
   "cell_type": "code",
   "execution_count": 15,
   "metadata": {},
   "outputs": [],
   "source": [
    "def get_subdict(dictionary, keys):\n",
    "    return {k:dictionary[k] for k in keys}"
   ]
  },
  {
   "cell_type": "code",
   "execution_count": 16,
   "metadata": {},
   "outputs": [],
   "source": [
    "def get_min_item(dictionary):\n",
    "    return min(dictionary.items(), key=lambda x: x[1])"
   ]
  },
  {
   "cell_type": "code",
   "execution_count": 17,
   "metadata": {},
   "outputs": [
    {
     "name": "stdout",
     "output_type": "stream",
     "text": [
      "('Орион - 600', 'Орион - 700', 'Орион - 800') ('Орион - 700', 722)\n",
      "('Орион - 600', 'Орион - 700', 'Весна - 600') ('Весна - 600', 218)\n",
      "('Орион - 600', 'Орион - 800', 'Весна - 600') ('Весна - 600', 218)\n",
      "('Орион - 700', 'Орион - 800', 'Весна - 600') ('Весна - 600', 218)\n"
     ]
    }
   ],
   "source": [
    "tmin = 1e15\n",
    "seqmin = None\n",
    "for comb_lot in combinations(DURATION.keys(), 3):\n",
    "    current = DURATION.copy()\n",
    "    \n",
    "    lot = 1\n",
    "    step = 1\n",
    "    t0 = 0\n",
    "    prod_sequence = [comb_]\n",
    "    min_lot, min_order = get_min_item(get_subdict(current, comb_lot))\n",
    "    \n",
    "    t0 += min_order + TCHANGE\n",
    "    current\n",
    "    \n",
    "    print(comb_lot, min_lot, min_order)"
   ]
  },
  {
   "cell_type": "code",
   "execution_count": null,
   "metadata": {},
   "outputs": [],
   "source": []
  },
  {
   "cell_type": "code",
   "execution_count": null,
   "metadata": {},
   "outputs": [],
   "source": []
  },
  {
   "cell_type": "code",
   "execution_count": null,
   "metadata": {},
   "outputs": [],
   "source": []
  },
  {
   "cell_type": "code",
   "execution_count": null,
   "metadata": {},
   "outputs": [],
   "source": []
  },
  {
   "cell_type": "code",
   "execution_count": null,
   "metadata": {},
   "outputs": [],
   "source": []
  }
 ],
 "metadata": {
  "kernelspec": {
   "display_name": "Python 3",
   "language": "python",
   "name": "python3"
  },
  "language_info": {
   "codemirror_mode": {
    "name": "ipython",
    "version": 3
   },
   "file_extension": ".py",
   "mimetype": "text/x-python",
   "name": "python",
   "nbconvert_exporter": "python",
   "pygments_lexer": "ipython3",
   "version": "3.7.1"
  }
 },
 "nbformat": 4,
 "nbformat_minor": 2
}
