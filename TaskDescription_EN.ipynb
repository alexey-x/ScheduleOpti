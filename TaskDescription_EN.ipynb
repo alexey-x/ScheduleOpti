{
 "cells": [
  {
   "cell_type": "markdown",
   "metadata": {},
   "source": [
    "# Task Description\n",
    "\n",
    "# Schedule the usage of the press-forms"
   ]
  },
  {
   "cell_type": "markdown",
   "metadata": {},
   "source": [
    "### Context:\n",
    "\n",
    "[0. Foreword](#0.-Foreword)\n",
    "\n",
    "[1. Initial business formulation](#1.-Initial-formulation)\n",
    "\n",
    "[2. Possible approaches](#2.-Possible-approaches)\n",
    "\n",
    "[X. Mathematical formulation](#X.-Mathematical-formulation)\n",
    "\n",
    "[X. Conclusions](#X.-Conclusions)\n",
    "\n",
    "[Appendix: not translated emails](#Appendix:-not-translated-emails)"
   ]
  },
  {
   "cell_type": "markdown",
   "metadata": {},
   "source": [
    "# 0. Foreword\n",
    "\n",
    "The task is from one presale. During my first approach not all businees requiremnst were clear. I got 3 days to solve the task but failed.\n",
    "\n",
    "I continued later. Tried simplified approach and simulation."
   ]
  },
  {
   "cell_type": "markdown",
   "metadata": {},
   "source": [
    "# 1. Initial business formulation\n",
    "\n",
    "_Note: the formulation is not the exact version but it is more clear._"
   ]
  },
  {
   "cell_type": "markdown",
   "metadata": {},
   "source": [
    "There is the press to make the doors.\n",
    "\n",
    "It has 3 slots. \n",
    "\n",
    "Each slot is for the given matrix so the door of the given shape can be printed. There are 13 different matrices.\n",
    "\n",
    "Therefore 3 different doors can be printed at the same time. Let us assume that the time to print 1 door is equal to 1 minute.\n",
    "\n",
    "There are orders for doors of the different shapes. The order is the number doors of the given shape.\n",
    "\n",
    "The simplified business process is\n",
    "\n",
    "1. Three different matrices print the doors of three different shapes.\n",
    "2. When the order for the given shape is done - press is stopped.\n",
    "3. The matrix is changed for another order. Changing time is 20 minutes.\n",
    "4. The press is started again but the new matrix cann't start printing doors immediately. \n",
    "   It must be heated during 40 minutes and after that it starts printing doors.\n",
    "5. Two other matrices can print doors while the new one is heating.\n",
    "6. When another order is finished the changing procedure to be repeated.\n",
    "7. Work untill all orders are done.\n",
    "\n",
    "The details are\n",
    "\n",
    "1. Changing time doesn't depend on 1 or all three matrices are changed - just 20 minutes.\n",
    "2. The press can work with empty slots.\n",
    "3. \n",
    "  - If during the heating one of the orders is finished do not stop the press till the heating ends. \n",
    "  - The slot with finished orders just doesn't produce the doors.\n",
    "  - After the heating is done the new matrix can be put to the finished slot.\n",
    "  - _Remark: this rule intorduced by me for definetness._\n",
    "  \n",
    "4. The order can be splitted i.e.: \n",
    "  - We may start printing doors. \n",
    "  - Stop, change the matrix for another order.\n",
    "  - The interrupted order can be done later.\n",
    "5. Any matrix can be placed to any slot. (Actually some matricies are incompatible with each other inside the press but this information was not provided.)\n",
    "  \n",
    "_Remark:\n",
    "If we see that during the heating of the matrix another order will be done we may not change the first matrix immediately, but wait till the longest of two orders is done and change two matrices at one stop._\n",
    "\n",
    "\n",
    "So, the goal is to minimize the work time of the press."
   ]
  },
  {
   "attachments": {},
   "cell_type": "markdown",
   "metadata": {},
   "source": [
    "The example of orders:\n",
    "\n",
    "|MatrixName|OrderSize|\n",
    "|----------|---------|\n",
    "|Орион - 600|\t734\n",
    "|Орион - 700|\t722\n",
    "|Орион - 800|\t1622\n",
    "|Весна - 600|\t218\n",
    "|Весна  - 700|\t350\n",
    "|Весна  - 800|\t820\n",
    "|Сафари|\t292\n",
    "|Сафари 2|\t352\n",
    "|Сатурн ПГ|\t42\n",
    "|Сатурн ПО|\t584\n",
    "|Соло|\t374\n",
    "|Арабеска ПО 800|\t30\n",
    "|Октава|\t38\n",
    "\n",
    "Everywhere the solutions are given for this example. 13 orders in total. "
   ]
  },
  {
   "cell_type": "markdown",
   "metadata": {},
   "source": [
    "# 2. Possible approaches"
   ]
  },
  {
   "cell_type": "markdown",
   "metadata": {},
   "source": [
    "The possible approaches are the linear optimization and brute force computation.\n",
    "\n",
    "I started from linear optimization but failed to mathematically formulate the task. All attempts were wrong.\n",
    "\n",
    "Then switched to brute force computation. There are three versions below but during the work I realized I don't know how to simulate the orders splitting and therefore may not find optimal solution. But the attempts helped me to better\n",
    "understand the task and formulate it as it is now.\n",
    "\n",
    "So I describe the results of brute force computations"
   ]
  },
  {
   "cell_type": "markdown",
   "metadata": {},
   "source": [
    "The main idea of the brute force computation is kind of simulation of the press working process for the given sequence of orders. So, the one can consider all possible sequencies and select the one with shortest working time."
   ]
  },
  {
   "cell_type": "markdown",
   "metadata": {},
   "source": [
    "Such aproach leads us to the algorithms where we care how to consider next order in the sequnce when one in the slot is done. I have tried three algorithms but before describing them let us consider how the sequences of orders were generated."
   ]
  },
  {
   "cell_type": "markdown",
   "metadata": {},
   "source": [
    "Even before sequnencies I must mention that for simalations the orders can not be splitted otherwise the algorithmic approch seems to me unaplicable."
   ]
  },
  {
   "cell_type": "markdown",
   "metadata": {},
   "source": [
    "With unsplitable orders we may ask what is minimal number of stops to change the matricies to finish all orders?\n",
    "The dependence on the number of orders is given below in the table (See column \"Min changes\"). \n",
    "\n",
    "|Number of orders| Min changes|Max changes|\n",
    "|----------------|------------|-----------|\n",
    "|1|0|0|\n",
    "|2|0|0|\n",
    "|3|0|0|\n",
    "|4|1|1|\n",
    "|5|1|2|\n",
    "|6|1|3|\n",
    "|7|2|4|\n",
    "|8|2|5|\n",
    "|9|2|6|\n",
    "|10|3|7|\n",
    "|11|3|8|\n",
    "|12|4|9|\n",
    "|13|4|10|\n",
    "\n",
    "The dependence is clear now:\n",
    "$$\n",
    "\\left[\\frac{N}{3}\\right] \\cdots N -3\n",
    "$$\n",
    "\n",
    "_Note: The maximal number of changes is never used. I keep it for myself. Its derivation is easy to understand for the case of 5 orders where 2 orders are so long that the fastest way to finish all orders is to process 3 other orders in one slot._ "
   ]
  },
  {
   "cell_type": "markdown",
   "metadata": {},
   "source": [
    "## 2.1 Sequencies generations"
   ]
  },
  {
   "cell_type": "markdown",
   "metadata": {},
   "source": [
    "**TO be improved**\n",
    "\n",
    "The are \n",
    "$$\n",
    "13! = 6\\ 227\\ 020\\ 800\n",
    "$$\n",
    "of possible sequencies (permutaions) of orders. It is the number impossible to deal with.\n",
    "\n",
    "But notice that slots are the same and the sequence of orders 1, 2, 3 inside the press doesn't differ from 3, 1, 2.\n",
    "\n",
    "Assume for beggining that the number of order is divisible by 3. Therefore need we consider all combinations of orders by 3 and after that we need to take into account all permuations of these combinations.\n",
    "For 12 orders we can combine orders by 3 in  $С^{12}_3 = 220$ ways. After that we must combine this combinations by\n",
    "minimal number of press stops. For 12 orders it is 4. That is we need to consider $C^{220}_4 = 94 966 795$ combinations with unique orders.\n",
    "\n",
    "If the number of orders is not divisible by 3 (slots) we need to take care about rests. Let us say we have 14 orders.\n",
    "There are $C^{14}_3$ full combinations and $C^{14}_2$ combinations fo rests. From all we must consider sequnencies with 4 stops."
   ]
  },
  {
   "cell_type": "markdown",
   "metadata": {},
   "source": [
    "## 2.2 Algorithms\n",
    "\n",
    "1. Put orders to the slots wait till the longest is completed. Change all the matricies.\n",
    "\n",
    "2. Put orders to the slots when shortest is done stop the press and change the matrix.\n",
    "\n",
    "3. Put orders to the slots when shortest check when another will be done."
   ]
  },
  {
   "cell_type": "markdown",
   "metadata": {},
   "source": [
    "# X. Mathematical formulation"
   ]
  },
  {
   "cell_type": "markdown",
   "metadata": {},
   "source": []
  },
  {
   "cell_type": "markdown",
   "metadata": {},
   "source": [
    "# 3. Conclusions"
   ]
  },
  {
   "cell_type": "markdown",
   "metadata": {},
   "source": []
  },
  {
   "cell_type": "markdown",
   "metadata": {},
   "source": []
  },
  {
   "cell_type": "markdown",
   "metadata": {},
   "source": [
    "# Appendix: not translated emails"
   ]
  },
  {
   "cell_type": "markdown",
   "metadata": {},
   "source": [
    "Горизонт планирования \n",
    "1 неделя.\n",
    "\n",
    "Входные данные \n",
    "1.\tСписок производственных заданий; \n",
    "2.\tПеречень доступных пресс-форм; \n",
    "3.\tСовместимость прессов и доступных пресс-форм; \n",
    "4.\tОстатки шпона; \n",
    "5.\tВремя на прессование. \n",
    "\n",
    "\n",
    "### Целевая функция\n",
    "\n",
    "Минимизации общего времени работы прессов. \n",
    "Ограничения \n",
    "\n",
    "1.\tЗамена пресс-формы занимает 20 минут, в течение которых пресс не может работать: за это время можно поменять как одну, так и все 3 пресс-формы. Последующие 40 минут замененные пресс-формы прогреваются и не могут быть использованы по назначению, остальные формы в прессе при этом работают в штатном режиме; \n",
    "2.\tКаждый пресс может работать только с определенным набором пресс-форм, при этом часть форм не могут быть одновременно использованы в одном прессе; \n",
    "\n",
    "Ограничения и допущения \n",
    "1.\tВремя на подготовку пресс-форм (работу погрузчика) не учитывается в модели; \n",
    "2.\tВремя, необходимое для замены пресс-форм, не зависит от количества меняемых форм на прессе; \n"
   ]
  },
  {
   "cell_type": "markdown",
   "metadata": {},
   "source": [
    "### Мои дополнительные вопросы (для истории)\n",
    "\n",
    "1)\tМожет матрица работать (не снимать ее), когда заказы кончились – холостой ход?\n",
    "Например, после последней замены  матрицы и ее нагрева, осталось сделать 5, 10 и 15 разных заказов.\n",
    "Через 5 шагов останется 0, 5 и 10.\n",
    "Надо останавливать пресс и снимать матрицу для которой уже нет работы?\n",
    "\n",
    "\n",
    "_Да, одна или несколько матриц могут работать «в пустую». Но они хотят минимизировать такую работу;_\n",
    "\n",
    "\n",
    "2)\tАналогично, сменили одну матрицу начался ее нагрев, а 2 другие работают. Во время нагрева закончился заказ на одной\n",
    "из матриц – что делают? Останавливают пресс еще раз?\n",
    "\n",
    "\n",
    "_Матрицу нужно прогревать 40 минут (после замены), поэтому придется дорабатывать до того момента, когда матрица прогреется. Поэтому таких случае лучше избегать: если ожидается, что за ближайшие 40 минут какая-то из матриц закончит работу, лучше чуть дольше поработать на прошлом наборе, либо эту матрицу тоже снять, а доработать на ней попозже \n",
    "(например, окажется, что на какой-то ещё матрице осталось произвести похожее количество)._\n",
    "\n",
    "3)\tАналогично и «в середине всех заказов», на одной матрице все закончилось, можно работу не останавливать и подождать,\n",
    "пока на других все кончится, а потом поменять 3 матрицы?\n",
    "\n",
    "        \n",
    "_Собственно, на этот вопрос я тоже уже ответил: да, можно подождать, пока закончится вторая матрица (или все 3) и потом поменять хоть все 3 разом._\n",
    "\n"
   ]
  },
  {
   "cell_type": "code",
   "execution_count": null,
   "metadata": {},
   "outputs": [],
   "source": []
  },
  {
   "cell_type": "code",
   "execution_count": null,
   "metadata": {},
   "outputs": [],
   "source": []
  },
  {
   "cell_type": "code",
   "execution_count": null,
   "metadata": {},
   "outputs": [],
   "source": []
  },
  {
   "cell_type": "code",
   "execution_count": null,
   "metadata": {},
   "outputs": [],
   "source": []
  }
 ],
 "metadata": {
  "kernelspec": {
   "display_name": "Python 3",
   "language": "python",
   "name": "python3"
  },
  "language_info": {
   "codemirror_mode": {
    "name": "ipython",
    "version": 3
   },
   "file_extension": ".py",
   "mimetype": "text/x-python",
   "name": "python",
   "nbconvert_exporter": "python",
   "pygments_lexer": "ipython3",
   "version": "3.7.1"
  }
 },
 "nbformat": 4,
 "nbformat_minor": 2
}
