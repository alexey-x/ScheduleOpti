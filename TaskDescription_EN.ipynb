{
 "cells": [
  {
   "cell_type": "markdown",
   "metadata": {},
   "source": [
    "# Task Description\n",
    "\n",
    "# Schedule the order and usage of the press-forms"
   ]
  },
  {
   "cell_type": "markdown",
   "metadata": {},
   "source": [
    "Context:\n",
    "\n",
    "[0. Foreword](#0.-Foreword)\n",
    "\n",
    "[1. Initial business formulation](#1.-Initial-formulation)\n",
    "\n",
    "[2. Mathematical formulation](#2.-Mathematical-formulation)\n",
    "\n",
    "[3. Conclusions](#3.-Conclusions)\n",
    "\n",
    "[Appendix: not translated emails](#Appendix:-not-translated-emails)"
   ]
  },
  {
   "cell_type": "markdown",
   "metadata": {},
   "source": [
    "# 0. Foreword\n",
    "\n",
    "The task is from one presale. During my first approach not all businees requiremnst were clear. I got 3 days to solve the task but failed.\n",
    "\n",
    "I continued later. Tried simplified approach and simulation."
   ]
  },
  {
   "cell_type": "markdown",
   "metadata": {},
   "source": [
    "# 1. Initial business formulation"
   ]
  },
  {
   "cell_type": "markdown",
   "metadata": {},
   "source": [
    "Горизонт планирования \n",
    "1 неделя.\n",
    "\n",
    "Входные данные \n",
    "1.\tСписок производственных заданий; \n",
    "2.\tПеречень доступных пресс-форм; \n",
    "3.\tСовместимость прессов и доступных пресс-форм; \n",
    "4.\tОстатки шпона; \n",
    "5.\tВремя на прессование. \n",
    "\n",
    "#### Objective function\n",
    "\n",
    "Минимизации общего времени работы прессов. \n",
    "Ограничения \n",
    "\n",
    "1.\tЗамена пресс-формы занимает 20 минут, в течение которых пресс не может работать: за это время можно поменять как одну, так и все 3 пресс-формы. Последующие 40 минут замененные пресс-формы прогреваются и не могут быть использованы по назначению, остальные формы в прессе при этом работают в штатном режиме; \n",
    "2.\tКаждый пресс может работать только с определенным набором пресс-форм, при этом часть форм не могут быть одновременно использованы в одном прессе; \n",
    "\n",
    "Ограничения и допущения \n",
    "1.\tВремя на подготовку пресс-форм (работу погрузчика) не учитывается в модели; \n",
    "2.\tВремя, необходимое для замены пресс-форм, не зависит от количества меняемых форм на прессе; \n"
   ]
  },
  {
   "cell_type": "markdown",
   "metadata": {},
   "source": [
    "### Additional questions\n",
    "\n",
    "1)\tМожет матрица работать (не снимать ее), когда заказы кончились – холостой ход?\n",
    "Например, после последней замены  матрицы и ее нагрева, осталось сделать 5, 10 и 15 разных заказов.\n",
    "Через 5 шагов останется 0, 5 и 10.\n",
    "Надо останавливать пресс и снимать матрицу для которой уже нет работы?\n",
    "\n",
    "**answer**\n",
    "\n",
    "_Да, одна или несколько матриц могут работать «в пустую». Но они хотят минимизировать такую работу;+\n",
    "\n",
    "\n",
    "2)\tАналогично, сменили одну матрицу начался ее нагрев, а 2 другие работают. Во время нагрева закончился заказ на одной\n",
    "из матриц – что делают? Останавливают пресс еще раз?\n",
    "\n",
    "**answer**\n",
    "\n",
    "_Матрицу нужно прогревать 40 минут (после замены), поэтому придется дорабатывать до того момента, когда матрица прогреется. Поэтому таких случае лучше избегать: если ожидается, что за ближайшие 40 минут какая-то из матриц закончит работу, лучше чуть дольше поработать на прошлом наборе, либо эту матрицу тоже снять, а доработать на ней попозже \n",
    "(например, окажется, что на какой-то ещё матрице осталось произвести похожее количество)._\n",
    "\n",
    "3)\tАналогично и «в середине всех заказов», на одной матрице все закончилось, можно работу не останавливать и подождать,\n",
    "пока на других все кончится, а потом поменять 3 матрицы?\n",
    "     \n",
    "**answer**  \n",
    "        \n",
    "_Собственно, на этот вопрос я тоже уже ответил: да, можно подождать, пока закончится вторая матрица (или все 3) и потом поменять хоть все 3 разом._\n",
    "\n"
   ]
  },
  {
   "cell_type": "code",
   "execution_count": null,
   "metadata": {},
   "outputs": [],
   "source": []
  },
  {
   "cell_type": "code",
   "execution_count": null,
   "metadata": {},
   "outputs": [],
   "source": []
  },
  {
   "cell_type": "code",
   "execution_count": null,
   "metadata": {},
   "outputs": [],
   "source": []
  },
  {
   "cell_type": "markdown",
   "metadata": {},
   "source": [
    "#### Max and MIn number of matix changes\n",
    "\n",
    "How many matrix changes should be done to complete all orders?\n",
    "\n",
    "|Number of orders| Min changes|Max changes|\n",
    "|----------------|------------|-----------|\n",
    "|1|0|0|\n",
    "|2|0|0|\n",
    "|3|0|0|\n",
    "|4|1|1|\n",
    "|5|1|2|\n",
    "|6|1|3|\n",
    "|7|2|4|\n",
    "|8|2|5|\n",
    "|9|2|6|\n",
    "|10|3|7|\n",
    "|11|3|8|\n",
    "|12|4|9|\n",
    "|13|4|10|\n",
    "\n",
    "The dependence is clear now:\n",
    "$$\n",
    "\\left[\\frac{N}{3}\\right] \\cdots N -3\n",
    "$$\n"
   ]
  },
  {
   "cell_type": "markdown",
   "metadata": {},
   "source": [
    "# 2. Mathematical formulation"
   ]
  },
  {
   "cell_type": "markdown",
   "metadata": {},
   "source": [
    "Approach with simulation.\n",
    "\n",
    "Conisder a case:\n",
    "\n",
    "One order is finished. Matrix is changed. Heating is started. During the heating another order finished.\n",
    "\n",
    "The are two stategies:\n",
    "\n",
    "1. Wait till the heating is over.  Change matrix for and start heating for another order.\n",
    "2. Avoid such cases. Have a look to the future if another order will be finished during the heating do not change matrix, wait for another order.  \n"
   ]
  },
  {
   "cell_type": "markdown",
   "metadata": {},
   "source": []
  },
  {
   "cell_type": "markdown",
   "metadata": {},
   "source": [
    "# 3. Conclusions"
   ]
  },
  {
   "cell_type": "markdown",
   "metadata": {},
   "source": []
  },
  {
   "cell_type": "markdown",
   "metadata": {},
   "source": []
  },
  {
   "cell_type": "markdown",
   "metadata": {},
   "source": [
    "# Appendix: not translated emails"
   ]
  },
  {
   "cell_type": "markdown",
   "metadata": {},
   "source": [
    "### Мои дополнительные вопросы (для истории)\n",
    "\n",
    "1)\tМожет матрица работать (не снимать ее), когда заказы кончились – холостой ход?\n",
    "Например, после последней замены  матрицы и ее нагрева, осталось сделать 5, 10 и 15 разных заказов.\n",
    "Через 5 шагов останется 0, 5 и 10.\n",
    "Надо останавливать пресс и снимать матрицу для которой уже нет работы?\n",
    "\n",
    "**answer**\n",
    "\n",
    "_Да, одна или несколько матриц могут работать «в пустую». Но они хотят минимизировать такую работу;_\n",
    "\n",
    "\n",
    "2)\tАналогично, сменили одну матрицу начался ее нагрев, а 2 другие работают. Во время нагрева закончился заказ на одной\n",
    "из матриц – что делают? Останавливают пресс еще раз?\n",
    "\n",
    "**answer**\n",
    "\n",
    "_Матрицу нужно прогревать 40 минут (после замены), поэтому придется дорабатывать до того момента, когда матрица прогреется. Поэтому таких случае лучше избегать: если ожидается, что за ближайшие 40 минут какая-то из матриц закончит работу, лучше чуть дольше поработать на прошлом наборе, либо эту матрицу тоже снять, а доработать на ней попозже \n",
    "(например, окажется, что на какой-то ещё матрице осталось произвести похожее количество)._\n",
    "\n",
    "3)\tАналогично и «в середине всех заказов», на одной матрице все закончилось, можно работу не останавливать и подождать,\n",
    "пока на других все кончится, а потом поменять 3 матрицы?\n",
    "     \n",
    "**answer**  \n",
    "        \n",
    "_Собственно, на этот вопрос я тоже уже ответил: да, можно подождать, пока закончится вторая матрица (или все 3) и потом поменять хоть все 3 разом._\n",
    "\n"
   ]
  },
  {
   "cell_type": "code",
   "execution_count": null,
   "metadata": {},
   "outputs": [],
   "source": []
  },
  {
   "cell_type": "code",
   "execution_count": null,
   "metadata": {},
   "outputs": [],
   "source": []
  },
  {
   "cell_type": "code",
   "execution_count": null,
   "metadata": {},
   "outputs": [],
   "source": []
  },
  {
   "cell_type": "code",
   "execution_count": null,
   "metadata": {},
   "outputs": [],
   "source": []
  }
 ],
 "metadata": {
  "kernelspec": {
   "display_name": "Python 3",
   "language": "python",
   "name": "python3"
  },
  "language_info": {
   "codemirror_mode": {
    "name": "ipython",
    "version": 3
   },
   "file_extension": ".py",
   "mimetype": "text/x-python",
   "name": "python",
   "nbconvert_exporter": "python",
   "pygments_lexer": "ipython3",
   "version": "3.7.1"
  }
 },
 "nbformat": 4,
 "nbformat_minor": 2
}
