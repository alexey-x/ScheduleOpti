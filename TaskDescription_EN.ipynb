{
 "cells": [
  {
   "cell_type": "markdown",
   "metadata": {},
   "source": [
    "# Task Description\n",
    "\n",
    "# Schedule the usage of the press-forms"
   ]
  },
  {
   "cell_type": "markdown",
   "metadata": {},
   "source": [
    "### Context:\n",
    "\n",
    "[0. Foreword](#0.-Foreword)\n",
    "\n",
    "[1. Initial business formulation](#1.-Initial-formulation)\n",
    "\n",
    "[2. Possible approaches](#2.-Possible-approaches)\n",
    "\n",
    "[X. Mathematical formulation](#X.-Mathematical-formulation)\n",
    "\n",
    "[X. Conclusions](#X.-Conclusions)\n",
    "\n",
    "[Appendix: not translated emails](#Appendix:-not-translated-emails)"
   ]
  },
  {
   "cell_type": "markdown",
   "metadata": {},
   "source": [
    "# 0. Foreword\n",
    "\n",
    "The task is from one presale. During my first approach not all businees requiremnst were clear. I got 3 days to solve the task but failed.\n",
    "\n",
    "I continued later. Tried simulation (brute-force) and linear programming."
   ]
  },
  {
   "cell_type": "markdown",
   "metadata": {},
   "source": [
    "# 1. Initial business formulation\n",
    "\n",
    "_Note: the formulation is not the exact version but it is more clear._"
   ]
  },
  {
   "cell_type": "markdown",
   "metadata": {},
   "source": [
    "There is the press to make the doors.\n",
    "\n",
    "It has 3 slots. \n",
    "\n",
    "Each slot is for the given matrix so the door of the given shape can be printed. There are 13 different matrices.\n",
    "\n",
    "Therefore 3 different doors can be printed at the same time. Let us assume that the time to print 1 door is equal to 1 minute.\n",
    "\n",
    "There are orders for doors of the different shapes. The order is the number doors of the given shape.\n",
    "\n",
    "The simplified business process is\n",
    "\n",
    "1. Three different matrices print the doors of three different shapes, i.e. performing three orders.\n",
    "2. When the order for the given shape is done - press is stopped.\n",
    "3. The matrix is changed for another order. Changing time is 20 minutes.\n",
    "4. The press is started again but the new matrix cann't start printing doors immediately. \n",
    "   It must be heated during 40 minutes and after that it starts printing doors.\n",
    "5. Two other matrices can print doors while the new one is heating.\n",
    "6. When another order is finished the changing procedure to be repeated.\n",
    "7. Work continues untill all orders are done.\n",
    "\n",
    "The details are\n",
    "\n",
    "1. Changing time doesn't depend on 1 or all three matrices are changed - just 20 minutes.\n",
    "2. The press can work with empty slots.\n",
    "3. \n",
    "  - If during the heating one of the orders another is finished do not stop the press till the heating ends. \n",
    "  - The slot with finished orders doesn't produce the doors.\n",
    "  - After the heating is done press can be stopped and the new matrix can be put to the finished slot.\n",
    "  - _Remark: this rule intorduced by me for definetness._\n",
    "  \n",
    "4. The order can be splitted i.e.: \n",
    "  - We may start printing doors. \n",
    "  - Stop, change the matrix for another order.\n",
    "  - The interrupted order can be done later.\n",
    "5. Any matrix can be placed to any slot. (Actually some matricies are incompatible with each other inside the press but this information was not provided.)\n",
    "  \n",
    "_Remark:\n",
    "If we see that during the heating of the matrix another order will be done we may not change the first matrix immediately, but wait till the longest of two orders is done and change two matrices at one stop._\n",
    "\n",
    "\n",
    "So, the goal is to perform all orders as soon as possible."
   ]
  },
  {
   "cell_type": "markdown",
   "metadata": {},
   "source": [
    "The example of orders:\n",
    "\n",
    "|MatrixName|OrderSize|\n",
    "|----------|---------|\n",
    "|Орион - 600|\t734\n",
    "|Орион - 700|\t722\n",
    "|Орион - 800|\t1622\n",
    "|Весна - 600|\t218\n",
    "|Весна  - 700|\t350\n",
    "|Весна  - 800|\t820\n",
    "|Сафари|\t292\n",
    "|Сафари 2|\t352\n",
    "|Сатурн ПГ|\t42\n",
    "|Сатурн ПО|\t584\n",
    "|Соло|\t374\n",
    "|Арабеска ПО 800|\t30\n",
    "|Октава|\t38\n",
    "\n",
    "Everywhere below the solutions refer for this example. There are 13 orders in total. "
   ]
  },
  {
   "cell_type": "markdown",
   "metadata": {},
   "source": [
    "# 2. Possible approaches"
   ]
  },
  {
   "cell_type": "markdown",
   "metadata": {},
   "source": [
    "The possible approaches are the linear optimization and brute force computation.\n",
    "\n",
    "\n",
    "Then switched to brute force computation. There are three versions below but during the work I realized I don't know how to simulate the orders splitting and therefore may not find optimal solution. But the attempts helped me to better\n",
    "understand the task and formulate it as it is now.\n",
    "\n",
    "So I describe the results of brute force computations"
   ]
  },
  {
   "cell_type": "markdown",
   "metadata": {},
   "source": [
    "The main idea of the brute force computation is kind of simulation of the press working process for the given sequence of orders. So, the one can consider all possible sequencies and select the one with shortest working time."
   ]
  },
  {
   "cell_type": "markdown",
   "metadata": {},
   "source": [
    "Such aproach leads us to the algorithms where we care how to consider next order in the sequnce when one in the slot is done. I have tried three algorithms but before describing them let us consider how the sequences of orders were generated."
   ]
  },
  {
   "cell_type": "markdown",
   "metadata": {},
   "source": [
    "Even before sequnencies I must mention that for simalations the orders can not be splitted otherwise the algorithmic approch seems to me unaplicable."
   ]
  },
  {
   "cell_type": "markdown",
   "metadata": {},
   "source": [
    "With unsplitable orders we may ask what is minimal number of stops to change the matricies to finish all orders?\n",
    "The dependence on the number of orders is given below in the table (See column \"Min changes\"). \n",
    "\n",
    "|Number of orders| Min Time Intervals|Max Time Intervals|\n",
    "|----------------|------------|-----------|\n",
    "|1|1|1|\n",
    "|2|1|1|\n",
    "|3|1|1|\n",
    "|4|2|2|\n",
    "|5|2|3|\n",
    "|6|2|4|\n",
    "|7|3|5|\n",
    "|8|3|6|\n",
    "|9|3|7|\n",
    "|10|4|8|\n",
    "|11|4|9|\n",
    "|12|4|10|\n",
    "|13|5|11|\n",
    "\n",
    "The dependence is clear now:\n",
    "$$\n",
    "\\left[\\frac{N+2}{3}\\right] \\cdots \\max(2, N - 1)-1\n",
    "$$\n",
    "\n",
    "_Note: The maximal number of changes is never used. I keep it for myself. Its derivation is easy to understand for the case of 5 orders where 2 orders are so long that the fastest way to finish all orders is to process 3 other orders in one slot._ "
   ]
  },
  {
   "cell_type": "markdown",
   "metadata": {},
   "source": [
    "## 2.1 Sequencies generations"
   ]
  },
  {
   "cell_type": "markdown",
   "metadata": {},
   "source": [
    "**TO be improved**\n",
    "\n",
    "The are \n",
    "$$\n",
    "13! = 6\\ 227\\ 020\\ 800\n",
    "$$\n",
    "of possible sequencies (permutaions) of orders. It is the number impossible to deal with.\n",
    "\n",
    "But notice that slots are the same and the sequence of orders 1, 2, 3 inside the press doesn't differ from 3, 1, 2.\n",
    "\n",
    "Assume for beggining that the number of order is divisible by 3. Therefore need we consider all combinations of orders by 3 and after that we need to take into account all permuations of these combinations.\n",
    "For 12 orders we can combine orders by 3 in  $С^{12}_3 = 220$ ways. After that we must combine this combinations by\n",
    "minimal number of press stops. For 12 orders it is 4. That is we need to consider $C^{220}_4 = 94 966 795$ combinations with unique orders.\n",
    "\n",
    "If the number of orders is not divisible by 3 (slots) we need to take care about rests. Let us say we have 14 orders.\n",
    "There are $C^{14}_3$ full combinations and $C^{14}_2$ combinations fo rests. From all we must consider sequnencies with 4 stops."
   ]
  },
  {
   "cell_type": "markdown",
   "metadata": {},
   "source": [
    "## 2.2 Algorithms\n",
    "\n",
    "1. Put orders to the slots wait till the longest is completed. Change all the matricies.\n",
    "\n",
    "2. Put orders to the slots when shortest is done stop the press and change the matrix.\n",
    "\n",
    "3. Put orders to the slots when shortest check when another will be done.\n",
    "\n",
    "\n",
    "```\n",
    "1. Wait till the heating is over. Change matrix for and start heating for another order.\n",
    "  take next order, put to slot, start press, heat, if during the heating another\n",
    "  order is finished DO NOT STOP PRESS to change order\n",
    "  also DO NOT STOP when heating is done - continue and change two orders next time!!!\n",
    "  TODO -- change order when heating is done\n",
    "2. Avoid such cases. Have a look to the future if another order will be finished during the heating do not change matrix,\n",
    "   wait for another order.\n",
    "   Here there are subtle cases what if another order finishes just one minute after the heating etc?\n",
    "   It is possible to introduce another somoothing time but it seems there always be more optimal solution.\n",
    "\n",
    "```"
   ]
  },
  {
   "cell_type": "markdown",
   "metadata": {},
   "source": [
    "# X. Mathematical formulation"
   ]
  },
  {
   "cell_type": "markdown",
   "metadata": {},
   "source": [
    "$T_{CH}$ - matrix change time.\n",
    "\n",
    "$T_{H}$ - matrix heating time.\n",
    "\n",
    "Let $T_1, T_2, ..., T_N$ - the number of press stops.\n",
    "\n",
    "$T_1$ is start time, $T_N$ - finish time. Therefore $N-1$ - the number of time intervals when orders are processed.\n",
    "\n",
    "$i \\in \\text{ORDERS} = 1..N_{orders}$.\n",
    "\n",
    "$j \\in \\text{SLOTS} = 1..N_{slots}$.\n",
    "\n",
    "$k \\in \\text{TIMEINTERVALS} = 1..N-1$ for time intervals and $k \\in 1..N$ for stops.\n",
    "\n",
    "$D_i$ - durations of orders or their sizes.\n",
    "\n",
    "$s_{ijk}$ - i-th order started in the slot j at time step k. **The order can start only once** -- it is important contraint. From the one hand it is simplification because the business process does not prohibit splitting. On the other hand, as it seems to me, the optimization will eliminate splittings because any order splitting indroduces addtional delay -- 20 minutes put matrix back plus 40 minutes for heating.   \n",
    "\n",
    "$a_{ijk}$ - i-th order is processed in the slot j at time step k. The order can be processed only at consecutive time steps.\n",
    "\n",
    "$t^1_{ijk}, t^2_{ijk}$ - start and finish order process time at the given time step. Changing and heating time are not included.\n",
    "\n",
    "$x_{ijk}$ - idle time. If the order is finished at $t^2_{ijk}$ then $t^2_{ijk} + x_{ijk} = T_{k+1}$. It is free varaible. Kind of panic variable. Keep in mind that $T, t^1, t^2$ have time dimension but $x$ has time interval dimension.\n",
    "\n",
    "The case where the new order put in the slot at time $T_k$ is shown in the figure below. Then the order is heated and\n",
    "doors printing starts at $t^1_{ijk}$. The order is quite long. So, another order in another slot is finished at the time $T_{k+1}$. After that there is a delay $T_{CH}$ to change the matrix in the finished slot. Printing doors continues at the time $t^1_{ijk+1}$. The order finishes at the time $t^2_{ijk+1}$ but next stop to change the matrix will be a bit later at time $T_{k+2}$. So there is idle time $x_{ijk+1}$.\n",
    "\n",
    "![dvar](img/decision_variables.png)\n",
    "\n",
    "Objective - minimize working time.\n",
    "\n",
    "$\\text{minimize}\\ T_N$\n",
    "\n",
    "Subject to the next constraints:\n",
    "\n",
    "$T_1 = 0$ - starting time.\n",
    "\n",
    "$T_N >= T_{CH} + T_{H} + \\max_{i\\in\\text{ORDERS}} D_i$ - lower bound on finish time. TO BE IMPROVED.\n",
    "\n",
    "$t^1_{ijk} = T_k + T_{CH} a_{ijk} + T_{H}  s_{ijk}$ - start at step k after change time and heating if it is first.\n",
    "\n",
    "$T_{k+1} = t^2_{ijk} + x_{ijk}$ - next step starts after order processing is finished and some idle time if any.\n",
    "\n",
    "$t^1_{ijk} \\le t^2_{ijk}$ - process starts before finish.\n",
    "\n",
    "$t^2_{ijk} \\le T_{k+1}$ - part of the order is finishes before next time interval starts.\n",
    "\n",
    "Order starts once:\n",
    "$\\forall i$\n",
    "\n",
    "$\n",
    "\\sum_{j, k} s_{ijk} = 1\n",
    "$\n",
    "\n",
    "If order started it must processed:\n",
    "$\\forall i, j, k$\n",
    "\n",
    "$\n",
    "a_{ijk} \\ge s_{ijk}\n",
    "$\n",
    "\n",
    "Connection of processing time and binary variable:\n",
    "$\\forall i, j, k$\n",
    "\n",
    "$\n",
    "t^2_{ijk} - t^1_{ijk} \\le D_i a_{ijk}\n",
    "$\n",
    "\n",
    "Total order duration: $\\forall i$\n",
    "\n",
    "$\n",
    "\\sum_{j, k} (t^2_{ijk} - t^1_{ijk}) = D_i\n",
    "$\n",
    "\n",
    "At the given time interval order can be processed in on slot: $\\forall i, k$.\n",
    "\n",
    "$\n",
    "\\sum_{j} a_{ijk} \\le 1\n",
    "$\n",
    "\n",
    "At the given time interval no to different orders can be in one slot: $\\forall k, j$.\n",
    "\n",
    "$\n",
    "\\sum_i a_{ijk} \\le 1\n",
    "$\n",
    "\n",
    "Order stays in the same slot at consectutive steps: $\\forall i, k$ and $j_1 \\neq j_2$.\n",
    "\n",
    "$\n",
    "a_{ij_1k} + a_{ij_2k+1} \\le 1\n",
    "$\n",
    "\n",
    "Any order at first must be heated: $\\forall i, j$ and $k_2 > k_1$\n",
    "$\n",
    "s_{ijk_1} \\ge s_{ijk_2}\n",
    "$"
   ]
  },
  {
   "cell_type": "markdown",
   "metadata": {},
   "source": [
    "# 3. Conclusions"
   ]
  },
  {
   "cell_type": "markdown",
   "metadata": {},
   "source": []
  },
  {
   "cell_type": "markdown",
   "metadata": {},
   "source": []
  },
  {
   "cell_type": "markdown",
   "metadata": {},
   "source": [
    "# Appendix: not translated emails"
   ]
  },
  {
   "cell_type": "markdown",
   "metadata": {},
   "source": [
    "Горизонт планирования \n",
    "1 неделя.\n",
    "\n",
    "Входные данные \n",
    "1.\tСписок производственных заданий; \n",
    "2.\tПеречень доступных пресс-форм; \n",
    "3.\tСовместимость прессов и доступных пресс-форм; \n",
    "4.\tОстатки шпона; \n",
    "5.\tВремя на прессование. \n",
    "\n",
    "\n",
    "### Целевая функция\n",
    "\n",
    "Минимизации общего времени работы прессов. \n",
    "Ограничения \n",
    "\n",
    "1.\tЗамена пресс-формы занимает 20 минут, в течение которых пресс не может работать: за это время можно поменять как одну, так и все 3 пресс-формы. Последующие 40 минут замененные пресс-формы прогреваются и не могут быть использованы по назначению, остальные формы в прессе при этом работают в штатном режиме; \n",
    "2.\tКаждый пресс может работать только с определенным набором пресс-форм, при этом часть форм не могут быть одновременно использованы в одном прессе; \n",
    "\n",
    "Ограничения и допущения \n",
    "1.\tВремя на подготовку пресс-форм (работу погрузчика) не учитывается в модели; \n",
    "2.\tВремя, необходимое для замены пресс-форм, не зависит от количества меняемых форм на прессе; \n"
   ]
  },
  {
   "cell_type": "markdown",
   "metadata": {},
   "source": [
    "### Мои дополнительные вопросы (для истории)\n",
    "\n",
    "1)\tМожет матрица работать (не снимать ее), когда заказы кончились – холостой ход?\n",
    "Например, после последней замены  матрицы и ее нагрева, осталось сделать 5, 10 и 15 разных заказов.\n",
    "Через 5 шагов останется 0, 5 и 10.\n",
    "Надо останавливать пресс и снимать матрицу для которой уже нет работы?\n",
    "\n",
    "\n",
    "_Да, одна или несколько матриц могут работать «в пустую». Но они хотят минимизировать такую работу;_\n",
    "\n",
    "\n",
    "2)\tАналогично, сменили одну матрицу начался ее нагрев, а 2 другие работают. Во время нагрева закончился заказ на одной\n",
    "из матриц – что делают? Останавливают пресс еще раз?\n",
    "\n",
    "\n",
    "_Матрицу нужно прогревать 40 минут (после замены), поэтому придется дорабатывать до того момента, когда матрица прогреется. Поэтому таких случае лучше избегать: если ожидается, что за ближайшие 40 минут какая-то из матриц закончит работу, лучше чуть дольше поработать на прошлом наборе, либо эту матрицу тоже снять, а доработать на ней попозже \n",
    "(например, окажется, что на какой-то ещё матрице осталось произвести похожее количество)._\n",
    "\n",
    "3)\tАналогично и «в середине всех заказов», на одной матрице все закончилось, можно работу не останавливать и подождать,\n",
    "пока на других все кончится, а потом поменять 3 матрицы?\n",
    "\n",
    "        \n",
    "_Собственно, на этот вопрос я тоже уже ответил: да, можно подождать, пока закончится вторая матрица (или все 3) и потом поменять хоть все 3 разом._\n",
    "\n"
   ]
  }
 ],
 "metadata": {
  "kernelspec": {
   "display_name": "Python 3",
   "language": "python",
   "name": "python3"
  },
  "language_info": {
   "codemirror_mode": {
    "name": "ipython",
    "version": 3
   },
   "file_extension": ".py",
   "mimetype": "text/x-python",
   "name": "python",
   "nbconvert_exporter": "python",
   "pygments_lexer": "ipython3",
   "version": "3.7.1"
  }
 },
 "nbformat": 4,
 "nbformat_minor": 2
}
