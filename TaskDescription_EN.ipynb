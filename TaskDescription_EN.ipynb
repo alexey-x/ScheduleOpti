{
 "cells": [
  {
   "cell_type": "markdown",
   "source": [
    "# Task Description\n",
    "\n",
    "# Schedule the usage of the press-forms"
   ],
   "metadata": {}
  },
  {
   "cell_type": "markdown",
   "source": [
    "### Context:\r\n",
    "\r\n",
    "[0. Foreword](#0.-Foreword)\r\n",
    "\r\n",
    "[1. Initial business formulation](#1.-Initial-formulation)\r\n",
    "\r\n",
    "[2. Possible approaches](#2.-Possible-approaches)\r\n",
    "\r\n",
    "[2.1 Brute-force approach](#2.1-Brute-force-approach)\r\n",
    "\r\n",
    "[2.2 Linear programming approach](##-2.2-Linear-programming-approach)\r\n",
    "\r\n",
    "[3. Conclusions](#3.-Conclusions)\r\n",
    "\r\n",
    "[Appendix: not translated emails](#Appendix:-not-translated-emails)"
   ],
   "metadata": {}
  },
  {
   "cell_type": "markdown",
   "source": [
    "# 0. Foreword\r\n",
    "\r\n",
    "The task is from one presale. During my first approach not all businees requirements were clear. Here are the solutions for most reasonable formulation. One solution is based on brute-force approach and another on is based on linear programming. It is my \"evening\" project where the imperfectness is allowed."
   ],
   "metadata": {}
  },
  {
   "cell_type": "markdown",
   "source": [
    "# 1. Initial business formulation"
   ],
   "metadata": {}
  },
  {
   "cell_type": "markdown",
   "source": [
    "There is the press to make the doors.\r\n",
    "\r\n",
    "It has 3 slots. \r\n",
    "\r\n",
    "To each slot the matrix can be put so the door of the given shape can be printed. There are 13 different matrices.\r\n",
    "\r\n",
    "Therefore 3 different doors can be printed at the same time. Let us assume that the time to print 1 door is equal to 1 minute.\r\n",
    "\r\n",
    "There are orders for the doors of the different shapes. The order is the number doors to be printed.\r\n",
    "\r\n",
    "The simplified business process is\r\n",
    "\r\n",
    "1. Three different matrices print the doors of three different shapes, i.e. performing three orders.\r\n",
    "2. When the order for the given shape is done - press is stopped.\r\n",
    "3. The matrix is changed for another order. Changing time is 20 minutes.\r\n",
    "4. The press is started again but the new matrix cann't start printing doors immediately. \r\n",
    "   It must be heated during 40 minutes and after that it starts printing doors.\r\n",
    "5. Two other matrices can print doors while the new one is heating.\r\n",
    "6. When another order is finished the changing procedure to be repeated.\r\n",
    "7. Work continues untill all orders are done.\r\n",
    "\r\n",
    "The details are\r\n",
    "\r\n",
    "1. Changing time doesn't depend on one or all three matrices are changed - just 20 minutes.\r\n",
    "2. The press can work with empty slots.\r\n",
    "3. The rule postulated be me:\r\n",
    "  - If during the heating one order another is finished do not stop the press till the heating ends. \r\n",
    "  - The slot with finished orders doesn't produce the doors.\r\n",
    "  - After the heating is done press can be stopped and the new matrix can be put to the finished slot.\r\n",
    "  \r\n",
    "4. The order can be splitted i.e.: \r\n",
    "  - We may start printing doors. \r\n",
    "  - Stop, change the matrix for another order.\r\n",
    "  - The interrupted order can be done later, i.e. again change the matrix and heat.\r\n",
    "\r\n",
    "  **Important: I do not consider splitting. As I feel the optimal solution must not have splitted orders.**\r\n",
    "\r\n",
    "5. Any matrix can be placed to any slot. (Actually some matricies are incompatible with each other inside the press but this information was not provided.)\r\n",
    "  \r\n",
    "_Remark:\r\n",
    "If we see that during the heating of the matrix another order will be done we may not change the matrix immediately, but wait till the longest of two orders is done and change two matrices at one stop._\r\n",
    "\r\n",
    "\r\n",
    "So, the goal is to perform all orders as soon as possible."
   ],
   "metadata": {}
  },
  {
   "cell_type": "markdown",
   "source": [
    "The example of orders:\n",
    "\n",
    "|MatrixName|OrderSize|\n",
    "|----------|---------|\n",
    "|Орион - 600|\t734\n",
    "|Орион - 700|\t722\n",
    "|Орион - 800|\t1622\n",
    "|Весна - 600|\t218\n",
    "|Весна  - 700|\t350\n",
    "|Весна  - 800|\t820\n",
    "|Сафари|\t292\n",
    "|Сафари 2|\t352\n",
    "|Сатурн ПГ|\t42\n",
    "|Сатурн ПО|\t584\n",
    "|Соло|\t374\n",
    "|Арабеска ПО 800|\t30\n",
    "|Октава|\t38\n",
    "\n",
    "Everywhere below the solutions refer for this example. There are 13 orders in total. "
   ],
   "metadata": {}
  },
  {
   "cell_type": "markdown",
   "source": [
    "# 2. Possible approaches"
   ],
   "metadata": {}
  },
  {
   "cell_type": "markdown",
   "source": [
    "The possible approaches are the linear programing and brute force computation.\r\n",
    "\r\n",
    "The choice of the decision variables for the linear programming task was not clear for me in the beginning so I have started fron brute-force approach."
   ],
   "metadata": {}
  },
  {
   "cell_type": "markdown",
   "source": [
    "## 2.1 Brute-force approach"
   ],
   "metadata": {}
  },
  {
   "cell_type": "markdown",
   "source": [
    "The idea is to simulate the work of the press. After that, one can provide the sequence of orders as an input to see how long they are processed. The sequence with the shortest processing time is the ONE we need!"
   ],
   "metadata": {}
  },
  {
   "cell_type": "markdown",
   "source": [
    "### 2.1.1 Simulation"
   ],
   "metadata": {}
  },
  {
   "cell_type": "markdown",
   "source": [
    "How the process for printing doors can be simulated?\r\n",
    "\r\n",
    "Let us assume that at the given moment press is loaded with three different orders of the different durations.\r\n",
    "What one should do when the shortest order is done?\r\n",
    "1. Put the marix for new order immediately?\r\n",
    "2. Wait untill all three orders are done and put another three matrices for the new orders?\r\n",
    "\r\n",
    "Here we come up with the matrix changing strategies. I consider:\r\n",
    "1. \"do-long-order\" strategy - wait till the longest of the orders is done and change all three matricies.\r\n",
    "2. \"do-short-order\" startegy - when the shortest order is done change the matrix for the new order.\r\n",
    "3. \"chk-next-order\" strategy - when the shortest order is done CHECK how much time left for the other orders to be done. If at least one of them finishes during the heating do not change the matrix but wait till the next order finishes."
   ],
   "metadata": {}
  },
  {
   "cell_type": "markdown",
   "source": [
    "Obviously the \"do-long-order\" startegy is the longest one. However it helps to realize that there is a minimum number of intervals to process the orders. Any other startegy requires more often matrix changes.\r\n",
    "\r\n",
    "The table below shows the dependence of minimal number of intervals as a function number of orders."
   ],
   "metadata": {}
  },
  {
   "cell_type": "markdown",
   "source": [
    "\r\n",
    "|Number of orders| Min Time Intervals|Max Time Intervals|\r\n",
    "|----------------|------------|-----------|\r\n",
    "|1|1|1|\r\n",
    "|2|1|1|\r\n",
    "|3|1|1|\r\n",
    "|4|2|2|\r\n",
    "|5|2|3|\r\n",
    "|6|2|4|\r\n",
    "|7|3|5|\r\n",
    "|8|3|6|\r\n",
    "|9|3|7|\r\n",
    "|10|4|8|\r\n",
    "|11|4|9|\r\n",
    "|12|4|10|\r\n",
    "|13|5|11|\r\n"
   ],
   "metadata": {}
  },
  {
   "cell_type": "markdown",
   "source": [
    "It is also possible to estimate the maximal number of time intervals (See MaxTimeIntervals column). Let us assume that we have two very long orders. In order to process them we use two slots in the press. Therefore all other orders have to be processed in one slot one by one. \r\n",
    "\r\n",
    "\r\n",
    "The dependence of minimal and maximal number of time intervals as a function of number of orders is given below:\r\n",
    "$$\r\n",
    "\\left[\\frac{N+2}{3}\\right] \\cdots \\max(2, N - 1)-1\r\n",
    "$$"
   ],
   "metadata": {}
  },
  {
   "cell_type": "markdown",
   "source": [
    "### 2.1.2 Sequencies generation"
   ],
   "metadata": {}
  },
  {
   "cell_type": "markdown",
   "source": [
    "The are \r\n",
    "$$\r\n",
    "13! = 6\\ 227\\ 020\\ 800\r\n",
    "$$\r\n",
    "of possible sequencies (permutaions) of orders. It is the number impossible to deal with.\r\n",
    "\r\n",
    "But notice that the slots are the same and the sequence of orders 1, 2, 3 inside the press doesn't differ from 3, 1, 2.\r\n",
    "\r\n",
    "Assume for beggining that the number of order is divisible by 3. Therefore need we consider all combinations of orders by 3 and after that we need to take into account all permuations of these combinations.\r\n",
    "For 12 orders we can combine orders by 3 in  $С^{12}_3 = 220$ ways. After that we must combine this combinations by\r\n",
    "minimal number of press stops. For 12 orders it is 4. That is we need to consider $C^{220}_4 = 94 966 795$ combinations with unique orders.\r\n",
    "\r\n",
    "If the number of orders is not divisible by 3 (slots) we need to take care about rests. Let us say we have 14 orders.\r\n",
    "The minimal number of time intervals is 5.\r\n",
    "There are $C^{14}_3 = 364$ combinations when all 3 slots are used and $C^{14}_2 = 91$ combinations when only 2 slots are used.\r\n",
    "First we need to make sequence from orders when all 3 slots are used. 4 time intervals are required. So, \r\n",
    "1. generate the sequence and check the orders are unique (huge number $C^{364}_4$). \r\n",
    "2. take the sequence from rest (91 combinations).\r\n",
    "3. join the sequencies from steps 1. and 2. and check the uniqness of orders.\r\n",
    "\r\n",
    "_Remark: it seems for 14 and more orders it will be impossible to use brute-force approach._"
   ],
   "metadata": {}
  },
  {
   "cell_type": "markdown",
   "source": [
    "### 2.1.3 Results\r\n",
    "\r\n",
    "The results are given for 13 orders.\r\n",
    "\r\n",
    "First notice that total duration time for all orders is 6178 min.\r\n",
    "\r\n",
    "If all these ordes were of similar length and were possible to process at the same time in all 3 slots then the press working time would have been 6178 / 3 = 2059 min. Taking into account the change time, heating time and the minimal number of time intervals the total press working time would be 2059 + 5 * 60 = 2359 min.   \r\n",
    "\r\n",
    "The \"do-long-order\" startegy gives - 3244 min, 5 time intervals, 1 solution.\r\n",
    "\r\n",
    "The \"do-short-order\" startegy gives - 2452 min, 10 time intervals, 2 solutions.\r\n",
    "\r\n",
    "The \"chk-next-order\" startegy gives - 2418 min, 8 - 10 time intervals, 32 solutions.\r\n",
    "\r\n",
    "The computational is approximately 47 min for any of the strategies."
   ],
   "metadata": {}
  },
  {
   "cell_type": "markdown",
   "source": [
    "One of the optimal solutions for \"chk-next-order\" strategies is given below."
   ],
   "metadata": {}
  },
  {
   "cell_type": "markdown",
   "source": [
    "```\r\n",
    "... Start.\r\n",
    "Cycle = 1\r\n",
    "Time = 20. After put orders to slots.\r\n",
    "Орион - 600 -> 734 | Орион - 700 -> 722 | Сатурн ПГ -> 42 |\r\n",
    "\r\n",
    "Cycle = 1\r\n",
    "Time = 60. After heating.\r\n",
    "Орион - 600 -> 734 | Орион - 700 -> 722 | Сатурн ПГ -> 42 |\r\n",
    "\r\n",
    "Cycle = 1\r\n",
    "Time = 102. After processing. Processing time = 42.\r\n",
    "Орион - 600 -> 692 | Орион - 700 -> 680 | Сатурн ПГ -> done |\r\n",
    "\r\n",
    "Cycle = 2\r\n",
    "Time = 122. After put orders to slots.\r\n",
    "Орион - 600 -> 692 | Орион - 700 -> 680 | Орион - 800 -> 1622 |\r\n",
    "\r\n",
    "Cycle = 2\r\n",
    "Time = 162. After heating.\r\n",
    "Орион - 600 -> 652 | Орион - 700 -> 640 | Орион - 800 -> 1622 |\r\n",
    "\r\n",
    "Cycle = 2\r\n",
    "Time = 814. After processing. Processing time = 652.\r\n",
    "Орион - 600 -> done | Орион - 700 -> done | Орион - 800 -> 970 |\r\n",
    "\r\n",
    "Cycle = 3\r\n",
    "Time = 834. After put orders to slots.\r\n",
    "Весна - 600 -> 218 | Весна  - 800 -> 820 | Орион - 800 -> 970 |\r\n",
    "\r\n",
    "Cycle = 3\r\n",
    "Time = 874. After heating.\r\n",
    "Весна - 600 -> 218 | Весна  - 800 -> 820 | Орион - 800 -> 930 |\r\n",
    "\r\n",
    "Cycle = 3\r\n",
    "Time = 1092. After processing. Processing time = 218.\r\n",
    "Весна - 600 -> done | Весна  - 800 -> 602 | Орион - 800 -> 712 |\r\n",
    "\r\n",
    "Cycle = 4\r\n",
    "Time = 1112. After put orders to slots.\r\n",
    "Весна  - 700 -> 350 | Весна  - 800 -> 602 | Орион - 800 -> 712 |\r\n",
    "\r\n",
    "Cycle = 4\r\n",
    "Time = 1152. After heating.\r\n",
    "Весна  - 700 -> 350 | Весна  - 800 -> 562 | Орион - 800 -> 672 |\r\n",
    "\r\n",
    "Cycle = 4\r\n",
    "Time = 1502. After processing. Processing time = 350.\r\n",
    "Весна  - 700 -> done | Весна  - 800 -> 212 | Орион - 800 -> 322 |\r\n",
    "\r\n",
    "Cycle = 5\r\n",
    "Time = 1522. After put orders to slots.\r\n",
    "Сафари -> 292 | Весна  - 800 -> 212 | Орион - 800 -> 322 |\r\n",
    "\r\n",
    "Cycle = 5\r\n",
    "Time = 1562. After heating.\r\n",
    "Сафари -> 292 | Весна  - 800 -> 172 | Орион - 800 -> 282 |\r\n",
    "\r\n",
    "Cycle = 5\r\n",
    "Time = 1734. After processing. Processing time = 172.\r\n",
    "Сафари -> 120 | Весна  - 800 -> done | Орион - 800 -> 110 |\r\n",
    "\r\n",
    "Cycle = 6\r\n",
    "Time = 1754. After put orders to slots.\r\n",
    "Сафари -> 120 | Сатурн ПО -> 584 | Орион - 800 -> 110 |\r\n",
    "\r\n",
    "Cycle = 6\r\n",
    "Time = 1794. After heating.\r\n",
    "Сафари -> 80 | Сатурн ПО -> 584 | Орион - 800 -> 70 |\r\n",
    "\r\n",
    "Cycle = 6\r\n",
    "Time = 1874. After processing. Processing time = 80.\r\n",
    "Сафари -> done | Сатурн ПО -> 504 | Орион - 800 -> done |\r\n",
    "\r\n",
    "Cycle = 7\r\n",
    "Time = 1894. After put orders to slots.\r\n",
    "Сафари 2 -> 352 | Сатурн ПО -> 504 | Соло -> 374 |\r\n",
    "\r\n",
    "Cycle = 7\r\n",
    "Time = 1934. After heating.\r\n",
    "Сафари 2 -> 352 | Сатурн ПО -> 464 | Соло -> 374 |\r\n",
    "\r\n",
    "Cycle = 7\r\n",
    "Time = 2308. After processing. Processing time = 374.\r\n",
    "Сафари 2 -> done | Сатурн ПО -> 90 | Соло -> done |\r\n",
    "\r\n",
    "Cycle = 8\r\n",
    "Time = 2328. After put orders to slots.\r\n",
    "Арабеска ПО 800 -> 30 | Сатурн ПО -> 90 | Октава -> 38 |\r\n",
    "\r\n",
    "Cycle = 8\r\n",
    "Time = 2368. After heating.\r\n",
    "Арабеска ПО 800 -> 30 | Сатурн ПО -> 50 | Октава -> 38 |\r\n",
    "\r\n",
    "Cycle = 8\r\n",
    "Time = 2418. After processing. Processing time = 50.\r\n",
    "Арабеска ПО 800 -> done | Сатурн ПО -> done | Октава -> done |\r\n",
    "..................................................\r\n",
    "Number of cycles = 8\r\n",
    "Total time = 2418\r\n",
    "... End.\r\n",
    "```"
   ],
   "metadata": {}
  },
  {
   "cell_type": "markdown",
   "source": [
    "### 2.1.4 Brute-Force Approach Conclusions\r\n",
    "\r\n",
    "1. The best result is for \"chk-next-order\" strategy.\r\n",
    "2. The total press working is 2418 min. Only 59 minutes more that lower bound working time 2359 min.\r\n",
    "3. There may be exist even better strategies but for the \"evening\" project the used ones are enough.\r\n",
    "4. I am hesitating about sequencies generator. Hope it doesn't miss anything."
   ],
   "metadata": {}
  },
  {
   "cell_type": "markdown",
   "source": [
    "## 2.2 Linear programming approach"
   ],
   "metadata": {}
  },
  {
   "cell_type": "markdown",
   "source": [
    "### 2.2.1 Constants and decision variables\r\n",
    "\r\n",
    "Let's define the constants:\r\n",
    "\r\n",
    "$T_{CH}$ - matrix change time.\r\n",
    "\r\n",
    "$T_{H}$ - matrix heating time.\r\n",
    "\r\n",
    "$i \\in \\text{ORDERS} = 1..N_{orders}$.\r\n",
    "\r\n",
    "$j \\in \\text{SLOTS} = 1..N_{slots}$.\r\n",
    "\r\n",
    "$k \\in \\text{TIMEINTERVALS} = 1..N$ number of the press work time intervals.\r\n",
    "\r\n",
    "$D_i$ - duration of the i-th order.\r\n",
    "\r\n",
    "Let's define decision variables:\r\n",
    "\r\n",
    "$L_k, k \\in 1..N$ - the lengths of the press work time intervals.\r\n",
    "\r\n",
    "$s_{ijk}$ - i-th order started in the slot j at time step k. **The order can start only once** -- it is important contraint. From the one hand it is simplification because the business process does not prohibit splitting. On the other hand, as it seems to me, the optimization will eliminate splittings because any order splitting indroduces additional delays -- 20 minutes to put matrix back plus 40 minutes for heating.   \r\n",
    "\r\n",
    "$a_{ijk}$ - i-th order is processed in the slot j at time step k. This varaibles helps to track processing if the \"long\" orders covering more than one time interval.\r\n",
    "\r\n",
    "$t_{ijk}$ - the i-th order processing time in the slot j at time interval k.\r\n",
    "\r\n",
    "$x_{jk}$ - press idle time for the slot j at time interval k. The variable is not zero if the order in the slot j finishes before the press tops. It is free varaible, kind of panic variable.\r\n",
    "\r\n",
    "The sense of the variables is given by expression:\r\n",
    "$L_k \\approx T_{CH} a_{ijk} + T_{H} s_{ijk} + t_{ijk} + x_{jk}$\r\n",
    "\r\n",
    "![dvar](img/decision_variables_new.png)"
   ],
   "metadata": {}
  },
  {
   "cell_type": "markdown",
   "source": [
    "### 2.2.2 Objective function and constraints\r\n",
    "\r\n",
    "We want the orders to be performed as soon as possible. The objective function is\r\n",
    "\r\n",
    "$\\text{minimize}\\ \\sum_{k=1}^N L_k$\r\n",
    "\r\n",
    "The constraints are\r\n",
    "\r\n",
    "- Any order can be processed in any slot at any time interval but only once.\r\n",
    "$\r\n",
    "\\sum_{j, k} s_{ijk} = 1, \\enskip \\forall i\r\n",
    "$"
   ],
   "metadata": {}
  },
  {
   "cell_type": "markdown",
   "source": [
    "- If the order is heated it also must be processed in that time interval.\r\n",
    "$\r\n",
    "a_{ijk} \\ge s_{ijk}, \\enskip \\forall i, j, k\r\n",
    "$"
   ],
   "metadata": {}
  },
  {
   "cell_type": "markdown",
   "source": [
    "- The order processing can not start in the time interval which is earlier than heating\r\n",
    "$\r\n",
    "s_{ijk+1} - s_{ijk} \\le a_{ijk+1} - a_{ijk}, \\enskip \\forall i, j, k \\lt N\r\n",
    "$\r\n",
    "Remark: or better ?\r\n",
    "$\r\n",
    "k_2 s_{ijk_1} \\ge k_1 a_{ijk_2}, \\enskip \\forall i, j, k_2 > k_1\r\n",
    "$"
   ],
   "metadata": {}
  },
  {
   "cell_type": "markdown",
   "source": [
    "- The long order once started in one time intreval should be processed in the next (no jumps over time intervals)\r\n",
    "$\r\n",
    "(k + 1) a_{ijk} \\ge k (a_{ijk+1} - s_{ijk+1}), \\enskip \\forall i,j k \\lt N\r\n",
    "$"
   ],
   "metadata": {}
  },
  {
   "cell_type": "markdown",
   "source": [
    "- The long order once processed in one slot must be processed in the same slot in the next time intrval\r\n",
    "$\r\n",
    "a_{ij_1k} + a_{ij_2k+1} \\le 1, \\forall i, j_1 \\ne j_2, k \\lt N\r\n",
    "$"
   ],
   "metadata": {}
  },
  {
   "cell_type": "markdown",
   "source": [
    "- For the given time inteval k, for any slot j the length of the time interval is\r\n",
    "$\r\n",
    "L_k = x_{jk} + \\sum_i \\left( T_{CH} a_{ijk} + T_H s_{ijk} + t_{ijk}\\right), \\enskip \\forall k, j\r\n",
    "$"
   ],
   "metadata": {}
  },
  {
   "cell_type": "markdown",
   "source": [
    "- The order must be performed\r\n",
    "$\r\n",
    "\\sum_{jk} t_{ijk} = D_i, \\enskip \\forall i\r\n",
    "$"
   ],
   "metadata": {}
  },
  {
   "cell_type": "markdown",
   "source": [
    "- WARNING: check again: The idle time for the long order must be zero inside all time intervals besides the last one\r\n",
    "$\r\n",
    "x_{jk} \\le \\sum_i D_i (a_{ijk} - a_{ijk+1} + s_{ijk+1}), \\enskip  \\forall j, k\r\n",
    "$"
   ],
   "metadata": {}
  },
  {
   "cell_type": "markdown",
   "source": [
    "- If the order is not processed in the slot the processing time is zero (connection between $t_{ijk}$ and $a_{ijk}$)\r\n",
    "$\r\n",
    "t_{ijk} \\le D_i a_{ijk}, \\enskip \\forall i, j, k\r\n",
    "$ "
   ],
   "metadata": {}
  },
  {
   "cell_type": "markdown",
   "source": [
    "- For the given time interval the single order is processed in one slot (no processing one order in two slots)\r\n",
    "$\r\n",
    "\\sum_j a_{ijk} \\le i, \\enskip  \\forall i, k\r\n",
    "$"
   ],
   "metadata": {}
  },
  {
   "cell_type": "markdown",
   "source": [
    "- For the given time interval and given slot only one order is processed (no two different orders in one slot)\r\n",
    "$\r\n",
    "\\sum_i a_{ijk} \\le 1, \\enskip \\forall j, k \r\n",
    "$"
   ],
   "metadata": {}
  },
  {
   "cell_type": "markdown",
   "source": [
    "### 2.2.3 Results and Conclusions for Linear programming approach\r\n",
    "\r\n",
    "1. For 13 orders and 8 time intervals, after 3 hours of work the solution found is XXX worse in comparison with optimal one. \r\n",
    "(REDO the experiment. COMPARE with brute force).\r\n",
    "2. Other constrains must be figured out because brute-force approach may become unaplicable for the more than 14 different orders."
   ],
   "metadata": {}
  },
  {
   "cell_type": "markdown",
   "source": [
    "# 3. Conclusions"
   ],
   "metadata": {}
  },
  {
   "cell_type": "markdown",
   "source": [
    "1. The brute-force approach proved to be better than the linear programing.\r\n",
    "2. It doesn't mean that linear programming useless. Just me have not experience with such kind of problems.\r\n",
    "3. I have not found similar tasks. There is the area of tasks connected with different production processes where mixing of materials happens. I borrowed from there beginning of events and itterative approach to find best number of time intervals. "
   ],
   "metadata": {}
  },
  {
   "cell_type": "markdown",
   "source": [
    "# Appendix: not translated emails"
   ],
   "metadata": {}
  },
  {
   "cell_type": "markdown",
   "source": [
    "Горизонт планирования \n",
    "1 неделя.\n",
    "\n",
    "Входные данные \n",
    "1.\tСписок производственных заданий; \n",
    "2.\tПеречень доступных пресс-форм; \n",
    "3.\tСовместимость прессов и доступных пресс-форм; \n",
    "4.\tОстатки шпона; \n",
    "5.\tВремя на прессование. \n",
    "\n",
    "\n",
    "### Целевая функция\n",
    "\n",
    "Минимизации общего времени работы прессов. \n",
    "Ограничения \n",
    "\n",
    "1.\tЗамена пресс-формы занимает 20 минут, в течение которых пресс не может работать: за это время можно поменять как одну, так и все 3 пресс-формы. Последующие 40 минут замененные пресс-формы прогреваются и не могут быть использованы по назначению, остальные формы в прессе при этом работают в штатном режиме; \n",
    "2.\tКаждый пресс может работать только с определенным набором пресс-форм, при этом часть форм не могут быть одновременно использованы в одном прессе; \n",
    "\n",
    "Ограничения и допущения \n",
    "1.\tВремя на подготовку пресс-форм (работу погрузчика) не учитывается в модели; \n",
    "2.\tВремя, необходимое для замены пресс-форм, не зависит от количества меняемых форм на прессе; \n"
   ],
   "metadata": {}
  },
  {
   "cell_type": "markdown",
   "source": [
    "### Мои дополнительные вопросы (для истории)\n",
    "\n",
    "1)\tМожет матрица работать (не снимать ее), когда заказы кончились – холостой ход?\n",
    "Например, после последней замены  матрицы и ее нагрева, осталось сделать 5, 10 и 15 разных заказов.\n",
    "Через 5 шагов останется 0, 5 и 10.\n",
    "Надо останавливать пресс и снимать матрицу для которой уже нет работы?\n",
    "\n",
    "\n",
    "_Да, одна или несколько матриц могут работать «в пустую». Но они хотят минимизировать такую работу;_\n",
    "\n",
    "\n",
    "2)\tАналогично, сменили одну матрицу начался ее нагрев, а 2 другие работают. Во время нагрева закончился заказ на одной\n",
    "из матриц – что делают? Останавливают пресс еще раз?\n",
    "\n",
    "\n",
    "_Матрицу нужно прогревать 40 минут (после замены), поэтому придется дорабатывать до того момента, когда матрица прогреется. Поэтому таких случае лучше избегать: если ожидается, что за ближайшие 40 минут какая-то из матриц закончит работу, лучше чуть дольше поработать на прошлом наборе, либо эту матрицу тоже снять, а доработать на ней попозже \n",
    "(например, окажется, что на какой-то ещё матрице осталось произвести похожее количество)._\n",
    "\n",
    "3)\tАналогично и «в середине всех заказов», на одной матрице все закончилось, можно работу не останавливать и подождать,\n",
    "пока на других все кончится, а потом поменять 3 матрицы?\n",
    "\n",
    "        \n",
    "_Собственно, на этот вопрос я тоже уже ответил: да, можно подождать, пока закончится вторая матрица (или все 3) и потом поменять хоть все 3 разом._\n",
    "\n"
   ],
   "metadata": {}
  }
 ],
 "metadata": {
  "kernelspec": {
   "name": "python3",
   "display_name": "Python 3.7.1 64-bit ('base': conda)"
  },
  "language_info": {
   "codemirror_mode": {
    "name": "ipython",
    "version": 3
   },
   "file_extension": ".py",
   "mimetype": "text/x-python",
   "name": "python",
   "nbconvert_exporter": "python",
   "pygments_lexer": "ipython3",
   "version": "3.7.1"
  },
  "interpreter": {
   "hash": "00e94f553826e6dceb5f99e5d974e11ae02d7c2826a9b474ca6b7ae54c2dbf99"
  }
 },
 "nbformat": 4,
 "nbformat_minor": 2
}